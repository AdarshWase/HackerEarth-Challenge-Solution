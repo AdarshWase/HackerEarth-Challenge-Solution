{
 "cells": [
  {
   "cell_type": "code",
   "execution_count": 1,
   "metadata": {},
   "outputs": [],
   "source": [
    "import pandas as pd\n",
    "import numpy as np\n",
    "import matplotlib.pyplot as plt\n",
    "from sklearn.preprocessing import LabelEncoder\n",
    "\n",
    "pd.set_option('display.max_columns', None)\n",
    "pd.set_option('display.max_rows', None)"
   ]
  },
  {
   "cell_type": "code",
   "execution_count": 2,
   "metadata": {},
   "outputs": [],
   "source": [
    "train = pd.read_csv('train.csv', index_col = ['customer_id'])\n",
    "test = pd.read_csv('test.csv', index_col = ['customer_id'])"
   ]
  },
  {
   "cell_type": "markdown",
   "metadata": {},
   "source": [
    "# EDA and Feature Engineering"
   ]
  },
  {
   "cell_type": "code",
   "execution_count": 3,
   "metadata": {
    "scrolled": true
   },
   "outputs": [
    {
     "data": {
      "text/html": [
       "<div>\n",
       "<style scoped>\n",
       "    .dataframe tbody tr th:only-of-type {\n",
       "        vertical-align: middle;\n",
       "    }\n",
       "\n",
       "    .dataframe tbody tr th {\n",
       "        vertical-align: top;\n",
       "    }\n",
       "\n",
       "    .dataframe thead th {\n",
       "        text-align: right;\n",
       "    }\n",
       "</style>\n",
       "<table border=\"1\" class=\"dataframe\">\n",
       "  <thead>\n",
       "    <tr style=\"text-align: right;\">\n",
       "      <th></th>\n",
       "      <th>Name</th>\n",
       "      <th>age</th>\n",
       "      <th>gender</th>\n",
       "      <th>security_no</th>\n",
       "      <th>region_category</th>\n",
       "      <th>membership_category</th>\n",
       "      <th>joining_date</th>\n",
       "      <th>joined_through_referral</th>\n",
       "      <th>referral_id</th>\n",
       "      <th>preferred_offer_types</th>\n",
       "      <th>medium_of_operation</th>\n",
       "      <th>internet_option</th>\n",
       "      <th>last_visit_time</th>\n",
       "      <th>days_since_last_login</th>\n",
       "      <th>avg_time_spent</th>\n",
       "      <th>avg_transaction_value</th>\n",
       "      <th>avg_frequency_login_days</th>\n",
       "      <th>points_in_wallet</th>\n",
       "      <th>used_special_discount</th>\n",
       "      <th>offer_application_preference</th>\n",
       "      <th>past_complaint</th>\n",
       "      <th>complaint_status</th>\n",
       "      <th>feedback</th>\n",
       "      <th>churn_risk_score</th>\n",
       "    </tr>\n",
       "    <tr>\n",
       "      <th>customer_id</th>\n",
       "      <th></th>\n",
       "      <th></th>\n",
       "      <th></th>\n",
       "      <th></th>\n",
       "      <th></th>\n",
       "      <th></th>\n",
       "      <th></th>\n",
       "      <th></th>\n",
       "      <th></th>\n",
       "      <th></th>\n",
       "      <th></th>\n",
       "      <th></th>\n",
       "      <th></th>\n",
       "      <th></th>\n",
       "      <th></th>\n",
       "      <th></th>\n",
       "      <th></th>\n",
       "      <th></th>\n",
       "      <th></th>\n",
       "      <th></th>\n",
       "      <th></th>\n",
       "      <th></th>\n",
       "      <th></th>\n",
       "      <th></th>\n",
       "    </tr>\n",
       "  </thead>\n",
       "  <tbody>\n",
       "    <tr>\n",
       "      <th>fffe4300490044003600300030003800</th>\n",
       "      <td>Pattie Morrisey</td>\n",
       "      <td>18</td>\n",
       "      <td>F</td>\n",
       "      <td>XW0DQ7H</td>\n",
       "      <td>Village</td>\n",
       "      <td>Platinum Membership</td>\n",
       "      <td>2017-08-17</td>\n",
       "      <td>No</td>\n",
       "      <td>xxxxxxxx</td>\n",
       "      <td>Gift Vouchers/Coupons</td>\n",
       "      <td>?</td>\n",
       "      <td>Wi-Fi</td>\n",
       "      <td>16:08:02</td>\n",
       "      <td>17</td>\n",
       "      <td>300.63</td>\n",
       "      <td>53005.25</td>\n",
       "      <td>17.0</td>\n",
       "      <td>781.75</td>\n",
       "      <td>Yes</td>\n",
       "      <td>Yes</td>\n",
       "      <td>No</td>\n",
       "      <td>Not Applicable</td>\n",
       "      <td>Products always in Stock</td>\n",
       "      <td>2</td>\n",
       "    </tr>\n",
       "    <tr>\n",
       "      <th>fffe43004900440032003100300035003700</th>\n",
       "      <td>Traci Peery</td>\n",
       "      <td>32</td>\n",
       "      <td>F</td>\n",
       "      <td>5K0N3X1</td>\n",
       "      <td>City</td>\n",
       "      <td>Premium Membership</td>\n",
       "      <td>2017-08-28</td>\n",
       "      <td>?</td>\n",
       "      <td>CID21329</td>\n",
       "      <td>Gift Vouchers/Coupons</td>\n",
       "      <td>Desktop</td>\n",
       "      <td>Mobile_Data</td>\n",
       "      <td>12:38:13</td>\n",
       "      <td>16</td>\n",
       "      <td>306.34</td>\n",
       "      <td>12838.38</td>\n",
       "      <td>10.0</td>\n",
       "      <td>NaN</td>\n",
       "      <td>Yes</td>\n",
       "      <td>No</td>\n",
       "      <td>Yes</td>\n",
       "      <td>Solved</td>\n",
       "      <td>Quality Customer Care</td>\n",
       "      <td>1</td>\n",
       "    </tr>\n",
       "    <tr>\n",
       "      <th>fffe4300490044003100390032003600</th>\n",
       "      <td>Merideth Mcmeen</td>\n",
       "      <td>44</td>\n",
       "      <td>F</td>\n",
       "      <td>1F2TCL3</td>\n",
       "      <td>Town</td>\n",
       "      <td>No Membership</td>\n",
       "      <td>2016-11-11</td>\n",
       "      <td>Yes</td>\n",
       "      <td>CID12313</td>\n",
       "      <td>Gift Vouchers/Coupons</td>\n",
       "      <td>Desktop</td>\n",
       "      <td>Wi-Fi</td>\n",
       "      <td>22:53:21</td>\n",
       "      <td>14</td>\n",
       "      <td>516.16</td>\n",
       "      <td>21027.00</td>\n",
       "      <td>22.0</td>\n",
       "      <td>500.69</td>\n",
       "      <td>No</td>\n",
       "      <td>Yes</td>\n",
       "      <td>Yes</td>\n",
       "      <td>Solved in Follow-up</td>\n",
       "      <td>Poor Website</td>\n",
       "      <td>5</td>\n",
       "    </tr>\n",
       "    <tr>\n",
       "      <th>fffe43004900440036003000330031003600</th>\n",
       "      <td>Eufemia Cardwell</td>\n",
       "      <td>37</td>\n",
       "      <td>M</td>\n",
       "      <td>VJGJ33N</td>\n",
       "      <td>City</td>\n",
       "      <td>No Membership</td>\n",
       "      <td>2016-10-29</td>\n",
       "      <td>Yes</td>\n",
       "      <td>CID3793</td>\n",
       "      <td>Gift Vouchers/Coupons</td>\n",
       "      <td>Desktop</td>\n",
       "      <td>Mobile_Data</td>\n",
       "      <td>15:57:50</td>\n",
       "      <td>11</td>\n",
       "      <td>53.27</td>\n",
       "      <td>25239.56</td>\n",
       "      <td>6.0</td>\n",
       "      <td>567.66</td>\n",
       "      <td>No</td>\n",
       "      <td>Yes</td>\n",
       "      <td>Yes</td>\n",
       "      <td>Unsolved</td>\n",
       "      <td>Poor Website</td>\n",
       "      <td>5</td>\n",
       "    </tr>\n",
       "    <tr>\n",
       "      <th>fffe43004900440031003900350030003600</th>\n",
       "      <td>Meghan Kosak</td>\n",
       "      <td>31</td>\n",
       "      <td>F</td>\n",
       "      <td>SVZXCWB</td>\n",
       "      <td>City</td>\n",
       "      <td>No Membership</td>\n",
       "      <td>2017-09-12</td>\n",
       "      <td>No</td>\n",
       "      <td>xxxxxxxx</td>\n",
       "      <td>Credit/Debit Card Offers</td>\n",
       "      <td>Smartphone</td>\n",
       "      <td>Mobile_Data</td>\n",
       "      <td>15:46:44</td>\n",
       "      <td>20</td>\n",
       "      <td>113.13</td>\n",
       "      <td>24483.66</td>\n",
       "      <td>16.0</td>\n",
       "      <td>663.06</td>\n",
       "      <td>No</td>\n",
       "      <td>Yes</td>\n",
       "      <td>Yes</td>\n",
       "      <td>Solved</td>\n",
       "      <td>Poor Website</td>\n",
       "      <td>5</td>\n",
       "    </tr>\n",
       "  </tbody>\n",
       "</table>\n",
       "</div>"
      ],
      "text/plain": [
       "                                                  Name  age gender  \\\n",
       "customer_id                                                          \n",
       "fffe4300490044003600300030003800       Pattie Morrisey   18      F   \n",
       "fffe43004900440032003100300035003700       Traci Peery   32      F   \n",
       "fffe4300490044003100390032003600       Merideth Mcmeen   44      F   \n",
       "fffe43004900440036003000330031003600  Eufemia Cardwell   37      M   \n",
       "fffe43004900440031003900350030003600      Meghan Kosak   31      F   \n",
       "\n",
       "                                     security_no region_category  \\\n",
       "customer_id                                                        \n",
       "fffe4300490044003600300030003800         XW0DQ7H         Village   \n",
       "fffe43004900440032003100300035003700     5K0N3X1            City   \n",
       "fffe4300490044003100390032003600         1F2TCL3            Town   \n",
       "fffe43004900440036003000330031003600     VJGJ33N            City   \n",
       "fffe43004900440031003900350030003600     SVZXCWB            City   \n",
       "\n",
       "                                      membership_category joining_date  \\\n",
       "customer_id                                                              \n",
       "fffe4300490044003600300030003800      Platinum Membership   2017-08-17   \n",
       "fffe43004900440032003100300035003700   Premium Membership   2017-08-28   \n",
       "fffe4300490044003100390032003600            No Membership   2016-11-11   \n",
       "fffe43004900440036003000330031003600        No Membership   2016-10-29   \n",
       "fffe43004900440031003900350030003600        No Membership   2017-09-12   \n",
       "\n",
       "                                     joined_through_referral referral_id  \\\n",
       "customer_id                                                                \n",
       "fffe4300490044003600300030003800                          No    xxxxxxxx   \n",
       "fffe43004900440032003100300035003700                       ?    CID21329   \n",
       "fffe4300490044003100390032003600                         Yes    CID12313   \n",
       "fffe43004900440036003000330031003600                     Yes     CID3793   \n",
       "fffe43004900440031003900350030003600                      No    xxxxxxxx   \n",
       "\n",
       "                                         preferred_offer_types  \\\n",
       "customer_id                                                      \n",
       "fffe4300490044003600300030003800         Gift Vouchers/Coupons   \n",
       "fffe43004900440032003100300035003700     Gift Vouchers/Coupons   \n",
       "fffe4300490044003100390032003600         Gift Vouchers/Coupons   \n",
       "fffe43004900440036003000330031003600     Gift Vouchers/Coupons   \n",
       "fffe43004900440031003900350030003600  Credit/Debit Card Offers   \n",
       "\n",
       "                                     medium_of_operation internet_option  \\\n",
       "customer_id                                                                \n",
       "fffe4300490044003600300030003800                       ?           Wi-Fi   \n",
       "fffe43004900440032003100300035003700             Desktop     Mobile_Data   \n",
       "fffe4300490044003100390032003600                 Desktop           Wi-Fi   \n",
       "fffe43004900440036003000330031003600             Desktop     Mobile_Data   \n",
       "fffe43004900440031003900350030003600          Smartphone     Mobile_Data   \n",
       "\n",
       "                                     last_visit_time  days_since_last_login  \\\n",
       "customer_id                                                                   \n",
       "fffe4300490044003600300030003800            16:08:02                     17   \n",
       "fffe43004900440032003100300035003700        12:38:13                     16   \n",
       "fffe4300490044003100390032003600            22:53:21                     14   \n",
       "fffe43004900440036003000330031003600        15:57:50                     11   \n",
       "fffe43004900440031003900350030003600        15:46:44                     20   \n",
       "\n",
       "                                      avg_time_spent  avg_transaction_value  \\\n",
       "customer_id                                                                   \n",
       "fffe4300490044003600300030003800              300.63               53005.25   \n",
       "fffe43004900440032003100300035003700          306.34               12838.38   \n",
       "fffe4300490044003100390032003600              516.16               21027.00   \n",
       "fffe43004900440036003000330031003600           53.27               25239.56   \n",
       "fffe43004900440031003900350030003600          113.13               24483.66   \n",
       "\n",
       "                                     avg_frequency_login_days  \\\n",
       "customer_id                                                     \n",
       "fffe4300490044003600300030003800                         17.0   \n",
       "fffe43004900440032003100300035003700                     10.0   \n",
       "fffe4300490044003100390032003600                         22.0   \n",
       "fffe43004900440036003000330031003600                      6.0   \n",
       "fffe43004900440031003900350030003600                     16.0   \n",
       "\n",
       "                                      points_in_wallet used_special_discount  \\\n",
       "customer_id                                                                    \n",
       "fffe4300490044003600300030003800                781.75                   Yes   \n",
       "fffe43004900440032003100300035003700               NaN                   Yes   \n",
       "fffe4300490044003100390032003600                500.69                    No   \n",
       "fffe43004900440036003000330031003600            567.66                    No   \n",
       "fffe43004900440031003900350030003600            663.06                    No   \n",
       "\n",
       "                                     offer_application_preference  \\\n",
       "customer_id                                                         \n",
       "fffe4300490044003600300030003800                              Yes   \n",
       "fffe43004900440032003100300035003700                           No   \n",
       "fffe4300490044003100390032003600                              Yes   \n",
       "fffe43004900440036003000330031003600                          Yes   \n",
       "fffe43004900440031003900350030003600                          Yes   \n",
       "\n",
       "                                     past_complaint     complaint_status  \\\n",
       "customer_id                                                                \n",
       "fffe4300490044003600300030003800                 No       Not Applicable   \n",
       "fffe43004900440032003100300035003700            Yes               Solved   \n",
       "fffe4300490044003100390032003600                Yes  Solved in Follow-up   \n",
       "fffe43004900440036003000330031003600            Yes             Unsolved   \n",
       "fffe43004900440031003900350030003600            Yes               Solved   \n",
       "\n",
       "                                                      feedback  \\\n",
       "customer_id                                                      \n",
       "fffe4300490044003600300030003800      Products always in Stock   \n",
       "fffe43004900440032003100300035003700     Quality Customer Care   \n",
       "fffe4300490044003100390032003600                  Poor Website   \n",
       "fffe43004900440036003000330031003600              Poor Website   \n",
       "fffe43004900440031003900350030003600              Poor Website   \n",
       "\n",
       "                                      churn_risk_score  \n",
       "customer_id                                             \n",
       "fffe4300490044003600300030003800                     2  \n",
       "fffe43004900440032003100300035003700                 1  \n",
       "fffe4300490044003100390032003600                     5  \n",
       "fffe43004900440036003000330031003600                 5  \n",
       "fffe43004900440031003900350030003600                 5  "
      ]
     },
     "execution_count": 3,
     "metadata": {},
     "output_type": "execute_result"
    }
   ],
   "source": [
    "train.head()"
   ]
  },
  {
   "cell_type": "code",
   "execution_count": 4,
   "metadata": {},
   "outputs": [
    {
     "data": {
      "text/plain": [
       "((36992, 24), (19919, 23))"
      ]
     },
     "execution_count": 4,
     "metadata": {},
     "output_type": "execute_result"
    }
   ],
   "source": [
    "train.shape, test.shape"
   ]
  },
  {
   "cell_type": "code",
   "execution_count": 5,
   "metadata": {},
   "outputs": [
    {
     "name": "stdout",
     "output_type": "stream",
     "text": [
      "<class 'pandas.core.frame.DataFrame'>\n",
      "Index: 36992 entries, fffe4300490044003600300030003800 to fffe43004900440033003600340034003200\n",
      "Data columns (total 24 columns):\n",
      " #   Column                        Non-Null Count  Dtype  \n",
      "---  ------                        --------------  -----  \n",
      " 0   Name                          36992 non-null  object \n",
      " 1   age                           36992 non-null  int64  \n",
      " 2   gender                        36992 non-null  object \n",
      " 3   security_no                   36992 non-null  object \n",
      " 4   region_category               31564 non-null  object \n",
      " 5   membership_category           36992 non-null  object \n",
      " 6   joining_date                  36992 non-null  object \n",
      " 7   joined_through_referral       36992 non-null  object \n",
      " 8   referral_id                   36992 non-null  object \n",
      " 9   preferred_offer_types         36704 non-null  object \n",
      " 10  medium_of_operation           36992 non-null  object \n",
      " 11  internet_option               36992 non-null  object \n",
      " 12  last_visit_time               36992 non-null  object \n",
      " 13  days_since_last_login         36992 non-null  int64  \n",
      " 14  avg_time_spent                36992 non-null  float64\n",
      " 15  avg_transaction_value         36992 non-null  float64\n",
      " 16  avg_frequency_login_days      36992 non-null  object \n",
      " 17  points_in_wallet              33549 non-null  float64\n",
      " 18  used_special_discount         36992 non-null  object \n",
      " 19  offer_application_preference  36992 non-null  object \n",
      " 20  past_complaint                36992 non-null  object \n",
      " 21  complaint_status              36992 non-null  object \n",
      " 22  feedback                      36992 non-null  object \n",
      " 23  churn_risk_score              36992 non-null  int64  \n",
      "dtypes: float64(3), int64(3), object(18)\n",
      "memory usage: 7.1+ MB\n"
     ]
    }
   ],
   "source": [
    "train.info()"
   ]
  },
  {
   "cell_type": "markdown",
   "metadata": {},
   "source": [
    "#### Name -"
   ]
  },
  {
   "cell_type": "code",
   "execution_count": 6,
   "metadata": {},
   "outputs": [],
   "source": [
    "# We don't need name\n",
    "\n",
    "del train['Name']\n",
    "del test['Name']"
   ]
  },
  {
   "cell_type": "markdown",
   "metadata": {},
   "source": [
    "#### Age -"
   ]
  },
  {
   "cell_type": "code",
   "execution_count": 7,
   "metadata": {},
   "outputs": [
    {
     "data": {
      "text/plain": [
       "customer_id\n",
       "fffe4300490044003600300030003800        18\n",
       "fffe43004900440032003100300035003700    32\n",
       "fffe4300490044003100390032003600        44\n",
       "fffe43004900440036003000330031003600    37\n",
       "fffe43004900440031003900350030003600    31\n",
       "Name: age, dtype: int64"
      ]
     },
     "execution_count": 7,
     "metadata": {},
     "output_type": "execute_result"
    }
   ],
   "source": [
    "train['age'].head()"
   ]
  },
  {
   "cell_type": "code",
   "execution_count": 8,
   "metadata": {},
   "outputs": [
    {
     "data": {
      "text/plain": [
       "count    36992.000000\n",
       "mean        37.118161\n",
       "std         15.867412\n",
       "min         10.000000\n",
       "25%         23.000000\n",
       "50%         37.000000\n",
       "75%         51.000000\n",
       "max         64.000000\n",
       "Name: age, dtype: float64"
      ]
     },
     "execution_count": 8,
     "metadata": {},
     "output_type": "execute_result"
    }
   ],
   "source": [
    "train['age'].describe()"
   ]
  },
  {
   "cell_type": "code",
   "execution_count": 9,
   "metadata": {},
   "outputs": [],
   "source": [
    "category = []\n",
    "\n",
    "for x in train['age']:\n",
    "    if x <= 16:\n",
    "        category.append('Teen')\n",
    "    elif (x >= 17 and x <= 50):\n",
    "        category.append('Adult')\n",
    "    elif (x >= 41 and x <= 100):\n",
    "        category.append('Old')\n",
    "        \n",
    "category_test = []\n",
    "\n",
    "for y in test['age']:\n",
    "    if y <= 16:\n",
    "        category_test.append('Teen')\n",
    "    elif (y >= 17 and y <= 50):\n",
    "        category_test.append('Adult')\n",
    "    elif (y >= 41 and y <= 100):\n",
    "        category_test.append('Old')"
   ]
  },
  {
   "cell_type": "code",
   "execution_count": 10,
   "metadata": {},
   "outputs": [],
   "source": [
    "train['age_category'] = category\n",
    "test['age_category'] = category_test"
   ]
  },
  {
   "cell_type": "code",
   "execution_count": 11,
   "metadata": {},
   "outputs": [
    {
     "data": {
      "text/plain": [
       "Adult    22830\n",
       "Old       9488\n",
       "Teen      4674\n",
       "Name: age_category, dtype: int64"
      ]
     },
     "execution_count": 11,
     "metadata": {},
     "output_type": "execute_result"
    }
   ],
   "source": [
    "# There are more adults\n",
    "\n",
    "train['age_category'].value_counts()"
   ]
  },
  {
   "cell_type": "markdown",
   "metadata": {},
   "source": [
    "#### Gender -"
   ]
  },
  {
   "cell_type": "code",
   "execution_count": 12,
   "metadata": {
    "scrolled": true
   },
   "outputs": [
    {
     "data": {
      "text/plain": [
       "array(['F', 'M', 'Unknown'], dtype=object)"
      ]
     },
     "execution_count": 12,
     "metadata": {},
     "output_type": "execute_result"
    }
   ],
   "source": [
    "train.gender.unique()"
   ]
  },
  {
   "cell_type": "code",
   "execution_count": 13,
   "metadata": {
    "scrolled": false
   },
   "outputs": [
    {
     "data": {
      "text/plain": [
       "F          18490\n",
       "M          18443\n",
       "Unknown       59\n",
       "Name: gender, dtype: int64"
      ]
     },
     "execution_count": 13,
     "metadata": {},
     "output_type": "execute_result"
    }
   ],
   "source": [
    "train['gender'].value_counts()"
   ]
  },
  {
   "cell_type": "markdown",
   "metadata": {},
   "source": [
    "#### Region Category -"
   ]
  },
  {
   "cell_type": "code",
   "execution_count": 14,
   "metadata": {
    "scrolled": true
   },
   "outputs": [
    {
     "data": {
      "text/plain": [
       "array(['Village', 'City', 'Town', nan], dtype=object)"
      ]
     },
     "execution_count": 14,
     "metadata": {},
     "output_type": "execute_result"
    }
   ],
   "source": [
    "train['region_category'].unique()"
   ]
  },
  {
   "cell_type": "code",
   "execution_count": 15,
   "metadata": {},
   "outputs": [
    {
     "data": {
      "text/plain": [
       "Town       14128\n",
       "City       12737\n",
       "Village     4699\n",
       "Name: region_category, dtype: int64"
      ]
     },
     "execution_count": 15,
     "metadata": {},
     "output_type": "execute_result"
    }
   ],
   "source": [
    "train['region_category'].value_counts()"
   ]
  },
  {
   "cell_type": "code",
   "execution_count": 16,
   "metadata": {
    "scrolled": true
   },
   "outputs": [
    {
     "data": {
      "text/plain": [
       "False    31564\n",
       "True      5428\n",
       "Name: region_category, dtype: int64"
      ]
     },
     "execution_count": 16,
     "metadata": {},
     "output_type": "execute_result"
    }
   ],
   "source": [
    "# There are NaN values\n",
    "\n",
    "train['region_category'].isna().value_counts()\n",
    "\n",
    "# We will deal with this later"
   ]
  },
  {
   "cell_type": "markdown",
   "metadata": {},
   "source": [
    "#### Membership Category -"
   ]
  },
  {
   "cell_type": "code",
   "execution_count": 17,
   "metadata": {
    "scrolled": false
   },
   "outputs": [
    {
     "data": {
      "text/plain": [
       "customer_id\n",
       "fffe4300490044003600300030003800        Platinum Membership\n",
       "fffe43004900440032003100300035003700     Premium Membership\n",
       "fffe4300490044003100390032003600              No Membership\n",
       "fffe43004900440036003000330031003600          No Membership\n",
       "fffe43004900440031003900350030003600          No Membership\n",
       "Name: membership_category, dtype: object"
      ]
     },
     "execution_count": 17,
     "metadata": {},
     "output_type": "execute_result"
    }
   ],
   "source": [
    "# Let's see what kind of values are there in membership_category\n",
    "\n",
    "train['membership_category'].head()"
   ]
  },
  {
   "cell_type": "code",
   "execution_count": 18,
   "metadata": {
    "scrolled": true
   },
   "outputs": [
    {
     "data": {
      "text/plain": [
       "Basic Membership       7724\n",
       "No Membership          7692\n",
       "Gold Membership        6795\n",
       "Silver Membership      5988\n",
       "Premium Membership     4455\n",
       "Platinum Membership    4338\n",
       "Name: membership_category, dtype: int64"
      ]
     },
     "execution_count": 18,
     "metadata": {},
     "output_type": "execute_result"
    }
   ],
   "source": [
    "# Looks like categorical values\n",
    "\n",
    "train['membership_category'].value_counts()"
   ]
  },
  {
   "cell_type": "code",
   "execution_count": 19,
   "metadata": {},
   "outputs": [],
   "source": [
    "# Assuming that 'No Membership', 'Basic Membership' and 'Silver Membership' cost less -\n",
    "# We will make another column to find out how much money a customer spend for this service\n",
    "\n",
    "money = []\n",
    "\n",
    "for a in train['membership_category']:\n",
    "    if a == 'No Membership':\n",
    "        money.append('Less')\n",
    "        \n",
    "    elif a == 'Basic Membership':\n",
    "        money.append('Less')\n",
    "        \n",
    "    elif a == 'Silver Membership':\n",
    "        money.append('Less')\n",
    "        \n",
    "    elif a == 'Gold Membership':\n",
    "        money.append('More')\n",
    "        \n",
    "    elif a == 'Premium Membership':\n",
    "        money.append('More')\n",
    "        \n",
    "    elif a == 'Platinum Membership':\n",
    "        money.append('More')\n",
    "\n",
    "money_test = []\n",
    "\n",
    "for b in test['membership_category']:\n",
    "    if b == 'No Membership':\n",
    "        money_test.append('Less')\n",
    "        \n",
    "    elif b == 'Basic Membership':\n",
    "        money_test.append('Less')\n",
    "        \n",
    "    elif b == 'Silver Membership':\n",
    "        money_test.append('Less')\n",
    "        \n",
    "    elif b == 'Gold Membership':\n",
    "        money_test.append('More')\n",
    "        \n",
    "    elif b == 'Premium Membership':\n",
    "        money_test.append('More')\n",
    "        \n",
    "    elif b == 'Platinum Membership':\n",
    "        money_test.append('More')"
   ]
  },
  {
   "cell_type": "code",
   "execution_count": 20,
   "metadata": {},
   "outputs": [],
   "source": [
    "train['how_much_spent'] = money\n",
    "test['how_much_spent'] = money_test"
   ]
  },
  {
   "cell_type": "code",
   "execution_count": 21,
   "metadata": {},
   "outputs": [],
   "source": [
    "# Does customer pays money for service or not ?\n",
    "\n",
    "pay = []\n",
    "\n",
    "for a in train['membership_category']:\n",
    "    if a == 'No Membership':\n",
    "        pay.append('No')\n",
    "        \n",
    "    elif a == 'Basic Membership':\n",
    "        pay.append('Yes')\n",
    "        \n",
    "    elif a == 'Silver Membership':\n",
    "        pay.append('Yes')\n",
    "        \n",
    "    elif a == 'Gold Membership':\n",
    "        pay.append('Yes')\n",
    "        \n",
    "    elif a == 'Premium Membership':\n",
    "        pay.append('Yes')\n",
    "        \n",
    "    elif a == 'Platinum Membership':\n",
    "        pay.append('Yes')"
   ]
  },
  {
   "cell_type": "code",
   "execution_count": 22,
   "metadata": {},
   "outputs": [],
   "source": [
    "pay_test = []\n",
    "\n",
    "for b in test['membership_category']:\n",
    "    if b == 'No Membership':\n",
    "        pay_test.append('No')\n",
    "        \n",
    "    elif b == 'Basic Membership':\n",
    "        pay_test.append('Yes')\n",
    "        \n",
    "    elif b == 'Silver Membership':\n",
    "        pay_test.append('Yes')\n",
    "        \n",
    "    elif b == 'Gold Membership':\n",
    "        pay_test.append('Yes')\n",
    "        \n",
    "    elif b == 'Premium Membership':\n",
    "        pay_test.append('Yes')\n",
    "        \n",
    "    elif b == 'Platinum Membership':\n",
    "        pay_test.append('Yes')"
   ]
  },
  {
   "cell_type": "code",
   "execution_count": 23,
   "metadata": {},
   "outputs": [],
   "source": [
    "train['pays_or_not'] = pay\n",
    "test['pays_or_not'] = pay_test"
   ]
  },
  {
   "cell_type": "markdown",
   "metadata": {},
   "source": [
    "#### Average Frequency Login Days -"
   ]
  },
  {
   "cell_type": "code",
   "execution_count": 24,
   "metadata": {
    "scrolled": false
   },
   "outputs": [],
   "source": [
    "# I tried different values, 10.0 is showing best performance.\n",
    "\n",
    "train['avg_frequency_login_days'] = train['avg_frequency_login_days'].replace('Error', 10.0)\n",
    "test['avg_frequency_login_days'] = test['avg_frequency_login_days'].replace('Error', 10.0)"
   ]
  },
  {
   "cell_type": "code",
   "execution_count": 25,
   "metadata": {},
   "outputs": [],
   "source": [
    "train['avg_frequency_login_days'] = train['avg_frequency_login_days'].astype('float64')\n",
    "test['avg_frequency_login_days'] = test['avg_frequency_login_days'].astype('float64')"
   ]
  },
  {
   "cell_type": "markdown",
   "metadata": {},
   "source": [
    "#### Joining Date -"
   ]
  },
  {
   "cell_type": "code",
   "execution_count": 26,
   "metadata": {
    "scrolled": true
   },
   "outputs": [
    {
     "data": {
      "text/plain": [
       "customer_id\n",
       "fffe4300490044003600300030003800        2017-08-17\n",
       "fffe43004900440032003100300035003700    2017-08-28\n",
       "fffe4300490044003100390032003600        2016-11-11\n",
       "fffe43004900440036003000330031003600    2016-10-29\n",
       "fffe43004900440031003900350030003600    2017-09-12\n",
       "Name: joining_date, dtype: object"
      ]
     },
     "execution_count": 26,
     "metadata": {},
     "output_type": "execute_result"
    }
   ],
   "source": [
    "train['joining_date'].head()"
   ]
  },
  {
   "cell_type": "code",
   "execution_count": 27,
   "metadata": {},
   "outputs": [],
   "source": [
    "# First thing first - convert it into datetime64\n",
    "\n",
    "train['joining_date'] = train['joining_date'].astype('datetime64')\n",
    "test['joining_date'] = test['joining_date'].astype('datetime64')"
   ]
  },
  {
   "cell_type": "code",
   "execution_count": 28,
   "metadata": {},
   "outputs": [],
   "source": [
    "# Generating more features\n",
    "\n",
    "train['Joining_Day'] = train['joining_date'].dt.day\n",
    "train['Joining_Month'] = train['joining_date'].dt.month\n",
    "train['Joining_Year'] = train['joining_date'].dt.year\n",
    "\n",
    "test['Joining_Day'] = test['joining_date'].dt.day\n",
    "test['Joining_Month'] = test['joining_date'].dt.month\n",
    "test['Joining_Year'] = test['joining_date'].dt.year"
   ]
  },
  {
   "cell_type": "code",
   "execution_count": 29,
   "metadata": {},
   "outputs": [],
   "source": [
    "train['days_since_joined'] = train['joining_date'].apply(lambda x:(pd.Timestamp('today') - x).days)\n",
    "test['days_since_joined'] = test['joining_date'].apply(lambda x:(pd.Timestamp('today') - x).days)"
   ]
  },
  {
   "cell_type": "markdown",
   "metadata": {},
   "source": [
    "#### Joined Through Referral -"
   ]
  },
  {
   "cell_type": "code",
   "execution_count": 30,
   "metadata": {},
   "outputs": [
    {
     "data": {
      "text/plain": [
       "customer_id\n",
       "fffe4300490044003600300030003800         No\n",
       "fffe43004900440032003100300035003700      ?\n",
       "fffe4300490044003100390032003600        Yes\n",
       "fffe43004900440036003000330031003600    Yes\n",
       "fffe43004900440031003900350030003600     No\n",
       "Name: joined_through_referral, dtype: object"
      ]
     },
     "execution_count": 30,
     "metadata": {},
     "output_type": "execute_result"
    }
   ],
   "source": [
    "train['joined_through_referral'].head()"
   ]
  },
  {
   "cell_type": "code",
   "execution_count": 31,
   "metadata": {},
   "outputs": [
    {
     "data": {
      "text/plain": [
       "array(['No', '?', 'Yes'], dtype=object)"
      ]
     },
     "execution_count": 31,
     "metadata": {},
     "output_type": "execute_result"
    }
   ],
   "source": [
    "train['joined_through_referral'].unique()"
   ]
  },
  {
   "cell_type": "code",
   "execution_count": 32,
   "metadata": {},
   "outputs": [
    {
     "data": {
      "text/plain": [
       "No     15839\n",
       "Yes    15715\n",
       "?       5438\n",
       "Name: joined_through_referral, dtype: int64"
      ]
     },
     "execution_count": 32,
     "metadata": {},
     "output_type": "execute_result"
    }
   ],
   "source": [
    "train['joined_through_referral'].value_counts()"
   ]
  },
  {
   "cell_type": "code",
   "execution_count": 33,
   "metadata": {},
   "outputs": [],
   "source": [
    "# What is that '?' doing in our dataset ?\n",
    "# Since there are 5438 values with ?, we can't replace that with the values of our choice."
   ]
  },
  {
   "cell_type": "code",
   "execution_count": 34,
   "metadata": {},
   "outputs": [],
   "source": [
    "# So many unknown values\n",
    "# Let's replace that '?' sign with 'Don't Know'\n",
    "\n",
    "train['joined_through_referral'] = train['joined_through_referral'].replace('?', 'don_know')\n",
    "test['joined_through_referral'] = test['joined_through_referral'].replace('?', 'don_know')"
   ]
  },
  {
   "cell_type": "markdown",
   "metadata": {},
   "source": [
    "#### Preferred Offer Types -"
   ]
  },
  {
   "cell_type": "code",
   "execution_count": 35,
   "metadata": {},
   "outputs": [
    {
     "data": {
      "text/plain": [
       "customer_id\n",
       "fffe4300490044003600300030003800           Gift Vouchers/Coupons\n",
       "fffe43004900440032003100300035003700       Gift Vouchers/Coupons\n",
       "fffe4300490044003100390032003600           Gift Vouchers/Coupons\n",
       "fffe43004900440036003000330031003600       Gift Vouchers/Coupons\n",
       "fffe43004900440031003900350030003600    Credit/Debit Card Offers\n",
       "Name: preferred_offer_types, dtype: object"
      ]
     },
     "execution_count": 35,
     "metadata": {},
     "output_type": "execute_result"
    }
   ],
   "source": [
    "train['preferred_offer_types'].head()"
   ]
  },
  {
   "cell_type": "code",
   "execution_count": 36,
   "metadata": {},
   "outputs": [
    {
     "data": {
      "text/plain": [
       "array(['Gift Vouchers/Coupons', 'Credit/Debit Card Offers',\n",
       "       'Without Offers', nan], dtype=object)"
      ]
     },
     "execution_count": 36,
     "metadata": {},
     "output_type": "execute_result"
    }
   ],
   "source": [
    "train['preferred_offer_types'].unique()"
   ]
  },
  {
   "cell_type": "code",
   "execution_count": 37,
   "metadata": {},
   "outputs": [
    {
     "data": {
      "text/plain": [
       "Gift Vouchers/Coupons       12349\n",
       "Credit/Debit Card Offers    12274\n",
       "Without Offers              12081\n",
       "Name: preferred_offer_types, dtype: int64"
      ]
     },
     "execution_count": 37,
     "metadata": {},
     "output_type": "execute_result"
    }
   ],
   "source": [
    "train['preferred_offer_types'].value_counts()"
   ]
  },
  {
   "cell_type": "code",
   "execution_count": 38,
   "metadata": {},
   "outputs": [
    {
     "data": {
      "text/plain": [
       "False    36704\n",
       "True       288\n",
       "Name: preferred_offer_types, dtype: int64"
      ]
     },
     "execution_count": 38,
     "metadata": {},
     "output_type": "execute_result"
    }
   ],
   "source": [
    "# There are some NaN values\n",
    "\n",
    "train['preferred_offer_types'].isna().value_counts()"
   ]
  },
  {
   "cell_type": "code",
   "execution_count": 39,
   "metadata": {},
   "outputs": [],
   "source": [
    "# Filling NaN values with credit card because I like Credit/Debit Card offers\n",
    "\n",
    "train['preferred_offer_types'] = train['preferred_offer_types'].fillna('Credit/Debit Card Offers')\n",
    "test['preferred_offer_types'] = test['preferred_offer_types'].fillna('Credit/Debit Card Offers')"
   ]
  },
  {
   "cell_type": "code",
   "execution_count": 40,
   "metadata": {},
   "outputs": [],
   "source": [
    "train['preferred_offer_types'] = train['preferred_offer_types'].astype('category')\n",
    "test['preferred_offer_types'] = test['preferred_offer_types'].astype('category')"
   ]
  },
  {
   "cell_type": "code",
   "execution_count": 41,
   "metadata": {},
   "outputs": [],
   "source": [
    "# Make a column to find out if the customer likes to have offers or not.\n",
    "\n",
    "offer = []\n",
    "\n",
    "for i in train['preferred_offer_types']:\n",
    "    if i == 'Gift Vouchers/Coupons':\n",
    "        offer.append('Yes')\n",
    "        \n",
    "    elif i == 'Credit/Debit Card Offers':\n",
    "        offer.append('Yes')\n",
    "        \n",
    "    elif i == 'Without Offers':\n",
    "        offer.append('No')\n",
    "        \n",
    "offer_test = []\n",
    "\n",
    "for j in test['preferred_offer_types']:\n",
    "    if j == 'Gift Vouchers/Coupons':\n",
    "        offer_test.append('Yes')\n",
    "        \n",
    "    elif j == 'Credit/Debit Card Offers':\n",
    "        offer_test.append('Yes')\n",
    "        \n",
    "    elif j == 'Without Offers':\n",
    "        offer_test.append('No')"
   ]
  },
  {
   "cell_type": "code",
   "execution_count": 42,
   "metadata": {},
   "outputs": [],
   "source": [
    "train['need_offers'] = offer\n",
    "test['need_offers'] = offer_test"
   ]
  },
  {
   "cell_type": "code",
   "execution_count": 43,
   "metadata": {
    "scrolled": true
   },
   "outputs": [
    {
     "data": {
      "text/plain": [
       "Yes    24911\n",
       "No     12081\n",
       "Name: need_offers, dtype: int64"
      ]
     },
     "execution_count": 43,
     "metadata": {},
     "output_type": "execute_result"
    }
   ],
   "source": [
    "# So many people need offers.\n",
    "\n",
    "train['need_offers'].value_counts()"
   ]
  },
  {
   "cell_type": "markdown",
   "metadata": {},
   "source": [
    "#### Medium Of Operation -"
   ]
  },
  {
   "cell_type": "code",
   "execution_count": 44,
   "metadata": {},
   "outputs": [
    {
     "data": {
      "text/plain": [
       "customer_id\n",
       "fffe4300490044003600300030003800                 ?\n",
       "fffe43004900440032003100300035003700       Desktop\n",
       "fffe4300490044003100390032003600           Desktop\n",
       "fffe43004900440036003000330031003600       Desktop\n",
       "fffe43004900440031003900350030003600    Smartphone\n",
       "Name: medium_of_operation, dtype: object"
      ]
     },
     "execution_count": 44,
     "metadata": {},
     "output_type": "execute_result"
    }
   ],
   "source": [
    "train['medium_of_operation'].head()"
   ]
  },
  {
   "cell_type": "code",
   "execution_count": 45,
   "metadata": {},
   "outputs": [
    {
     "data": {
      "text/plain": [
       "array(['?', 'Desktop', 'Smartphone', 'Both'], dtype=object)"
      ]
     },
     "execution_count": 45,
     "metadata": {},
     "output_type": "execute_result"
    }
   ],
   "source": [
    "train['medium_of_operation'].unique()"
   ]
  },
  {
   "cell_type": "code",
   "execution_count": 46,
   "metadata": {},
   "outputs": [
    {
     "data": {
      "text/plain": [
       "Desktop       13913\n",
       "Smartphone    13876\n",
       "?              5393\n",
       "Both           3810\n",
       "Name: medium_of_operation, dtype: int64"
      ]
     },
     "execution_count": 46,
     "metadata": {},
     "output_type": "execute_result"
    }
   ],
   "source": [
    "train['medium_of_operation'].value_counts()"
   ]
  },
  {
   "cell_type": "code",
   "execution_count": 47,
   "metadata": {},
   "outputs": [],
   "source": [
    "train['medium_of_operation'] = train['medium_of_operation'].replace('?', 'Any_one')\n",
    "test['medium_of_operation'] = test['medium_of_operation'].replace('?', 'Any_one')"
   ]
  },
  {
   "cell_type": "code",
   "execution_count": 48,
   "metadata": {},
   "outputs": [
    {
     "data": {
      "text/plain": [
       "Desktop       13913\n",
       "Smartphone    13876\n",
       "Any_one        5393\n",
       "Both           3810\n",
       "Name: medium_of_operation, dtype: int64"
      ]
     },
     "execution_count": 48,
     "metadata": {},
     "output_type": "execute_result"
    }
   ],
   "source": [
    "train['medium_of_operation'].value_counts()"
   ]
  },
  {
   "cell_type": "code",
   "execution_count": 49,
   "metadata": {},
   "outputs": [],
   "source": [
    "train['medium_of_operation'] = train['medium_of_operation'].astype('category')\n",
    "test['medium_of_operation'] = test['medium_of_operation'].astype('category')"
   ]
  },
  {
   "cell_type": "markdown",
   "metadata": {},
   "source": [
    "#### Internet Option -"
   ]
  },
  {
   "cell_type": "code",
   "execution_count": 50,
   "metadata": {},
   "outputs": [
    {
     "data": {
      "text/plain": [
       "Wi-Fi          12413\n",
       "Mobile_Data    12343\n",
       "Fiber_Optic    12236\n",
       "Name: internet_option, dtype: int64"
      ]
     },
     "execution_count": 50,
     "metadata": {},
     "output_type": "execute_result"
    }
   ],
   "source": [
    "train['internet_option'].value_counts()"
   ]
  },
  {
   "cell_type": "code",
   "execution_count": 51,
   "metadata": {},
   "outputs": [],
   "source": [
    "train['internet_option'] = train['internet_option'].astype('category')\n",
    "test['internet_option'] = test['internet_option'].astype('category')"
   ]
  },
  {
   "cell_type": "markdown",
   "metadata": {},
   "source": [
    "#### Last Visit Time -"
   ]
  },
  {
   "cell_type": "code",
   "execution_count": 52,
   "metadata": {
    "scrolled": true
   },
   "outputs": [
    {
     "data": {
      "text/plain": [
       "customer_id\n",
       "fffe4300490044003600300030003800        16:08:02\n",
       "fffe43004900440032003100300035003700    12:38:13\n",
       "fffe4300490044003100390032003600        22:53:21\n",
       "fffe43004900440036003000330031003600    15:57:50\n",
       "fffe43004900440031003900350030003600    15:46:44\n",
       "Name: last_visit_time, dtype: object"
      ]
     },
     "execution_count": 52,
     "metadata": {},
     "output_type": "execute_result"
    }
   ],
   "source": [
    "train['last_visit_time'].head()"
   ]
  },
  {
   "cell_type": "code",
   "execution_count": 53,
   "metadata": {},
   "outputs": [],
   "source": [
    "train['last_visit_time'] = train['last_visit_time'].astype('datetime64')\n",
    "test['last_visit_time'] = test['last_visit_time'].astype('datetime64')"
   ]
  },
  {
   "cell_type": "markdown",
   "metadata": {},
   "source": [
    "#### Average Transaction Value -"
   ]
  },
  {
   "cell_type": "code",
   "execution_count": 54,
   "metadata": {},
   "outputs": [
    {
     "data": {
      "text/plain": [
       "customer_id\n",
       "fffe4300490044003600300030003800        53005.25\n",
       "fffe43004900440032003100300035003700    12838.38\n",
       "fffe4300490044003100390032003600        21027.00\n",
       "fffe43004900440036003000330031003600    25239.56\n",
       "fffe43004900440031003900350030003600    24483.66\n",
       "Name: avg_transaction_value, dtype: float64"
      ]
     },
     "execution_count": 54,
     "metadata": {},
     "output_type": "execute_result"
    }
   ],
   "source": [
    "train['avg_transaction_value'].head()"
   ]
  },
  {
   "cell_type": "code",
   "execution_count": 55,
   "metadata": {},
   "outputs": [
    {
     "data": {
      "text/plain": [
       "(99914.05, 800.46)"
      ]
     },
     "execution_count": 55,
     "metadata": {},
     "output_type": "execute_result"
    }
   ],
   "source": [
    "# Let's check minimum and maximum transaction to get some insights\n",
    "\n",
    "train['avg_transaction_value'].max(), train['avg_transaction_value'].min()"
   ]
  },
  {
   "cell_type": "markdown",
   "metadata": {},
   "source": [
    "#### Points in Wallet -"
   ]
  },
  {
   "cell_type": "code",
   "execution_count": 56,
   "metadata": {},
   "outputs": [
    {
     "data": {
      "text/plain": [
       "customer_id\n",
       "fffe4300490044003600300030003800        781.75\n",
       "fffe43004900440032003100300035003700       NaN\n",
       "fffe4300490044003100390032003600        500.69\n",
       "fffe43004900440036003000330031003600    567.66\n",
       "fffe43004900440031003900350030003600    663.06\n",
       "Name: points_in_wallet, dtype: float64"
      ]
     },
     "execution_count": 56,
     "metadata": {},
     "output_type": "execute_result"
    }
   ],
   "source": [
    "train['points_in_wallet'].head()"
   ]
  },
  {
   "cell_type": "code",
   "execution_count": 57,
   "metadata": {},
   "outputs": [],
   "source": [
    "# We will deal with NaN later"
   ]
  },
  {
   "cell_type": "code",
   "execution_count": 58,
   "metadata": {
    "scrolled": true
   },
   "outputs": [
    {
     "data": {
      "text/plain": [
       "count    33549.000000\n",
       "mean       686.882199\n",
       "std        194.063624\n",
       "min       -760.661236\n",
       "25%        616.150000\n",
       "50%        697.620000\n",
       "75%        763.950000\n",
       "max       2069.069761\n",
       "Name: points_in_wallet, dtype: float64"
      ]
     },
     "execution_count": 58,
     "metadata": {},
     "output_type": "execute_result"
    }
   ],
   "source": [
    "train['points_in_wallet'].describe()"
   ]
  },
  {
   "cell_type": "code",
   "execution_count": 59,
   "metadata": {},
   "outputs": [],
   "source": [
    "# What are negative numbers doing in our wallet column ? It can be a debt or error in data entry."
   ]
  },
  {
   "cell_type": "markdown",
   "metadata": {},
   "source": [
    "#### Used discount -"
   ]
  },
  {
   "cell_type": "code",
   "execution_count": 60,
   "metadata": {},
   "outputs": [
    {
     "data": {
      "text/plain": [
       "Yes    20342\n",
       "No     16650\n",
       "Name: used_special_discount, dtype: int64"
      ]
     },
     "execution_count": 60,
     "metadata": {},
     "output_type": "execute_result"
    }
   ],
   "source": [
    "train['used_special_discount'].value_counts()"
   ]
  },
  {
   "cell_type": "code",
   "execution_count": 61,
   "metadata": {},
   "outputs": [],
   "source": [
    "train['used_special_discount'] = train['used_special_discount'].astype('category')\n",
    "test['used_special_discount'] = test['used_special_discount'].astype('category')"
   ]
  },
  {
   "cell_type": "markdown",
   "metadata": {},
   "source": [
    "#### Offer Preference -"
   ]
  },
  {
   "cell_type": "code",
   "execution_count": 62,
   "metadata": {},
   "outputs": [
    {
     "data": {
      "text/plain": [
       "Yes    20440\n",
       "No     16552\n",
       "Name: offer_application_preference, dtype: int64"
      ]
     },
     "execution_count": 62,
     "metadata": {},
     "output_type": "execute_result"
    }
   ],
   "source": [
    "train['offer_application_preference'].value_counts()"
   ]
  },
  {
   "cell_type": "code",
   "execution_count": 63,
   "metadata": {},
   "outputs": [],
   "source": [
    "train['offer_application_preference'] = train['offer_application_preference'].astype('category')\n",
    "test['offer_application_preference'] = test['offer_application_preference'].astype('category')"
   ]
  },
  {
   "cell_type": "markdown",
   "metadata": {},
   "source": [
    "#### Past Complaint -"
   ]
  },
  {
   "cell_type": "code",
   "execution_count": 64,
   "metadata": {},
   "outputs": [
    {
     "data": {
      "text/plain": [
       "No     18602\n",
       "Yes    18390\n",
       "Name: past_complaint, dtype: int64"
      ]
     },
     "execution_count": 64,
     "metadata": {},
     "output_type": "execute_result"
    }
   ],
   "source": [
    "train['past_complaint'].value_counts()"
   ]
  },
  {
   "cell_type": "code",
   "execution_count": 65,
   "metadata": {},
   "outputs": [],
   "source": [
    "train['past_complaint'] = train['past_complaint'].astype('category')\n",
    "test['past_complaint'] = test['past_complaint'].astype('category')"
   ]
  },
  {
   "cell_type": "markdown",
   "metadata": {},
   "source": [
    "#### Complaint Status -"
   ]
  },
  {
   "cell_type": "code",
   "execution_count": 66,
   "metadata": {},
   "outputs": [
    {
     "data": {
      "text/plain": [
       "customer_id\n",
       "fffe4300490044003600300030003800             Not Applicable\n",
       "fffe43004900440032003100300035003700                 Solved\n",
       "fffe4300490044003100390032003600        Solved in Follow-up\n",
       "fffe43004900440036003000330031003600               Unsolved\n",
       "fffe43004900440031003900350030003600                 Solved\n",
       "Name: complaint_status, dtype: object"
      ]
     },
     "execution_count": 66,
     "metadata": {},
     "output_type": "execute_result"
    }
   ],
   "source": [
    "train['complaint_status'].head()"
   ]
  },
  {
   "cell_type": "code",
   "execution_count": 67,
   "metadata": {},
   "outputs": [
    {
     "data": {
      "text/plain": [
       "Not Applicable              18602\n",
       "Unsolved                     4644\n",
       "Solved                       4619\n",
       "Solved in Follow-up          4577\n",
       "No Information Available     4550\n",
       "Name: complaint_status, dtype: int64"
      ]
     },
     "execution_count": 67,
     "metadata": {},
     "output_type": "execute_result"
    }
   ],
   "source": [
    "train['complaint_status'].value_counts()"
   ]
  },
  {
   "cell_type": "code",
   "execution_count": 68,
   "metadata": {},
   "outputs": [],
   "source": [
    "train['complaint_status'] = train['complaint_status'].astype('category')\n",
    "test['complaint_status'] = test['complaint_status'].astype('category')"
   ]
  },
  {
   "cell_type": "code",
   "execution_count": 69,
   "metadata": {},
   "outputs": [],
   "source": [
    "# Making new column to see if the customers are happy with company's customer helpline.\n",
    "\n",
    "exp = []\n",
    "\n",
    "for x in train['complaint_status']:\n",
    "    if x == 'Not Applicable':\n",
    "        exp.append('Happy')\n",
    "    \n",
    "    elif x == 'Unsolved':\n",
    "        exp.append('Sad')\n",
    "    \n",
    "    elif x == 'Solved':\n",
    "        exp.append('Happy')\n",
    "    \n",
    "    elif x == 'Solved in Follow-up':\n",
    "        exp.append('Happy')\n",
    "    \n",
    "    elif x == 'No Information Available':\n",
    "        exp.append('Sad')         # Because so many people wrote bad reviews\n",
    "\n",
    "exp_test = []\n",
    "\n",
    "for y in test['complaint_status']:\n",
    "    if y == 'Not Applicable':\n",
    "        exp_test.append('Happy')\n",
    "    \n",
    "    elif y == 'Unsolved':\n",
    "        exp_test.append('Sad')\n",
    "    \n",
    "    elif y == 'Solved':\n",
    "        exp_test.append('Happy')\n",
    "    \n",
    "    elif y == 'Solved in Follow-up':\n",
    "        exp_test.append('Happy')\n",
    "    \n",
    "    elif y == 'No Information Available':\n",
    "        exp_test.append('Sad')         # ----"
   ]
  },
  {
   "cell_type": "code",
   "execution_count": 70,
   "metadata": {},
   "outputs": [],
   "source": [
    "train['complaint_experience'] = exp\n",
    "test['complaint_experience'] = exp_test"
   ]
  },
  {
   "cell_type": "markdown",
   "metadata": {},
   "source": [
    "#### Feedback -"
   ]
  },
  {
   "cell_type": "code",
   "execution_count": 71,
   "metadata": {},
   "outputs": [
    {
     "data": {
      "text/plain": [
       "customer_id\n",
       "fffe4300490044003600300030003800        Products always in Stock\n",
       "fffe43004900440032003100300035003700       Quality Customer Care\n",
       "fffe4300490044003100390032003600                    Poor Website\n",
       "fffe43004900440036003000330031003600                Poor Website\n",
       "fffe43004900440031003900350030003600                Poor Website\n",
       "Name: feedback, dtype: object"
      ]
     },
     "execution_count": 71,
     "metadata": {},
     "output_type": "execute_result"
    }
   ],
   "source": [
    "train['feedback'].head()"
   ]
  },
  {
   "cell_type": "code",
   "execution_count": 72,
   "metadata": {
    "scrolled": true
   },
   "outputs": [
    {
     "data": {
      "text/plain": [
       "Poor Product Quality        6350\n",
       "No reason specified         6290\n",
       "Too many ads                6279\n",
       "Poor Website                6271\n",
       "Poor Customer Service       6252\n",
       "Reasonable Price            1417\n",
       "User Friendly Website       1391\n",
       "Products always in Stock    1382\n",
       "Quality Customer Care       1360\n",
       "Name: feedback, dtype: int64"
      ]
     },
     "execution_count": 72,
     "metadata": {},
     "output_type": "execute_result"
    }
   ],
   "source": [
    "train['feedback'].value_counts()"
   ]
  },
  {
   "cell_type": "code",
   "execution_count": 73,
   "metadata": {},
   "outputs": [],
   "source": [
    "# Rating column with 1 being HIGHEST and 5 being the LOWEST rating.\n",
    "\n",
    "rate = []\n",
    "\n",
    "for values in train['feedback']:\n",
    "    if values == 'Poor Product Quality':\n",
    "        rate.append('5')\n",
    "    \n",
    "    elif values == 'No reason specified':\n",
    "        rate.append('4')\n",
    "    \n",
    "    elif values == 'Too many ads':\n",
    "        rate.append('5')\n",
    "    \n",
    "    elif values == 'Poor Website':\n",
    "        rate.append('5')\n",
    "\n",
    "    elif values == 'Poor Customer Service':\n",
    "        rate.append('5')\n",
    "    \n",
    "    elif values == 'Reasonable Price':\n",
    "        rate.append('1')\n",
    "    \n",
    "    elif values == 'User Friendly Website':\n",
    "        rate.append('2')\n",
    "    \n",
    "    elif values == 'Products always in Stock':\n",
    "        rate.append('1')\n",
    "    \n",
    "    elif values == 'Quality Customer Care':\n",
    "        rate.append('1')\n",
    "        \n",
    "rate_test = []\n",
    "\n",
    "for values_test in test['feedback']:\n",
    "    if values_test == 'Poor Product Quality':\n",
    "        rate_test.append('5')\n",
    "    \n",
    "    elif values_test == 'No reason specified':\n",
    "        rate_test.append('4')\n",
    "    \n",
    "    elif values_test == 'Too many ads':\n",
    "        rate_test.append('5')\n",
    "    \n",
    "    elif values_test == 'Poor Website':\n",
    "        rate_test.append('5')\n",
    "\n",
    "    elif values_test == 'Poor Customer Service':\n",
    "        rate_test.append('5')\n",
    "    \n",
    "    elif values_test == 'Reasonable Price':\n",
    "        rate_test.append('1')\n",
    "    \n",
    "    elif values_test == 'User Friendly Website':\n",
    "        rate_test.append('2')\n",
    "    \n",
    "    elif values_test == 'Products always in Stock':\n",
    "        rate_test.append('1')\n",
    "    \n",
    "    elif values_test == 'Quality Customer Care':\n",
    "        rate_test.append('1')"
   ]
  },
  {
   "cell_type": "code",
   "execution_count": 74,
   "metadata": {},
   "outputs": [],
   "source": [
    "train['rating'] = rate\n",
    "test['rating'] = rate_test"
   ]
  },
  {
   "cell_type": "code",
   "execution_count": 75,
   "metadata": {},
   "outputs": [],
   "source": [
    "# Poor Sentimental Analysis for train data -\n",
    "# Since there are only 9 unique customer feedback, we can do Sentimental Analysis by hand !\n",
    "\n",
    "list = []\n",
    "\n",
    "for values in train['feedback']:\n",
    "    if values == 'Poor Product Quality':\n",
    "        list.append('sad')\n",
    "    \n",
    "    elif values == 'No reason specified':\n",
    "        list.append('sad')\n",
    "    \n",
    "    elif values == 'Too many ads':\n",
    "        list.append('sad')\n",
    "    \n",
    "    elif values == 'Poor Website':\n",
    "        list.append('sad')\n",
    "\n",
    "    elif values == 'Poor Customer Service':\n",
    "        list.append('sad')\n",
    "    \n",
    "    elif values == 'Reasonable Price':\n",
    "        list.append('happy')\n",
    "    \n",
    "    elif values == 'User Friendly Website':\n",
    "        list.append('happy')\n",
    "    \n",
    "    elif values == 'Products always in Stock':\n",
    "        list.append('happy')\n",
    "    \n",
    "    elif values == 'Quality Customer Care':\n",
    "        list.append('happy')"
   ]
  },
  {
   "cell_type": "code",
   "execution_count": 76,
   "metadata": {},
   "outputs": [],
   "source": [
    "# Poor Sentimental Analysis for test data\n",
    "\n",
    "list_test = []\n",
    "\n",
    "for value in test['feedback']:\n",
    "    if value == 'Poor Product Quality':\n",
    "        list_test.append('sad')\n",
    "    \n",
    "    elif value == 'No reason specified':\n",
    "        list_test.append('sad')\n",
    "    \n",
    "    elif value == 'Too many ads':\n",
    "        list_test.append('sad')\n",
    "    \n",
    "    elif value == 'Poor Website':\n",
    "        list_test.append('sad')\n",
    "\n",
    "    elif value == 'Poor Customer Service':\n",
    "        list_test.append('sad')\n",
    "    \n",
    "    elif value == 'Reasonable Price':\n",
    "        list_test.append('happy')\n",
    "    \n",
    "    elif value == 'User Friendly Website':\n",
    "        list_test.append('happy')\n",
    "    \n",
    "    elif value == 'Products always in Stock':\n",
    "        list_test.append('happy')\n",
    "    \n",
    "    elif value == 'Quality Customer Care':\n",
    "        list_test.append('happy')"
   ]
  },
  {
   "cell_type": "code",
   "execution_count": 77,
   "metadata": {},
   "outputs": [
    {
     "data": {
      "text/plain": [
       "(36992, 19919)"
      ]
     },
     "execution_count": 77,
     "metadata": {},
     "output_type": "execute_result"
    }
   ],
   "source": [
    "len(list), len(list_test)"
   ]
  },
  {
   "cell_type": "code",
   "execution_count": 78,
   "metadata": {},
   "outputs": [],
   "source": [
    "# New Feature\n",
    "\n",
    "train['satsifaction'] = list\n",
    "test['satsifaction'] = list_test"
   ]
  },
  {
   "cell_type": "code",
   "execution_count": 79,
   "metadata": {},
   "outputs": [],
   "source": [
    "train['satsifaction'] = train['satsifaction'].astype('category')\n",
    "test['satsifaction'] = test['satsifaction'].astype('category')\n",
    "\n",
    "train['feedback'] = train['feedback'].astype('category')\n",
    "test['feedback'] = test['feedback'].astype('category')"
   ]
  },
  {
   "cell_type": "code",
   "execution_count": 80,
   "metadata": {},
   "outputs": [
    {
     "data": {
      "text/plain": [
       "sad      31442\n",
       "happy     5550\n",
       "Name: satsifaction, dtype: int64"
      ]
     },
     "execution_count": 80,
     "metadata": {},
     "output_type": "execute_result"
    }
   ],
   "source": [
    "# OH! So many unhappy customers. Looks like this company need to make their customer happy.\n",
    "\n",
    "train['satsifaction'].value_counts()"
   ]
  },
  {
   "cell_type": "markdown",
   "metadata": {},
   "source": [
    "#### Chunk Risk Score -"
   ]
  },
  {
   "cell_type": "code",
   "execution_count": 81,
   "metadata": {},
   "outputs": [
    {
     "data": {
      "text/plain": [
       "array([ 2,  1,  5,  3,  4, -1], dtype=int64)"
      ]
     },
     "execution_count": 81,
     "metadata": {},
     "output_type": "execute_result"
    }
   ],
   "source": [
    "train['churn_risk_score'].unique()"
   ]
  },
  {
   "cell_type": "code",
   "execution_count": 82,
   "metadata": {},
   "outputs": [
    {
     "data": {
      "text/plain": [
       " 3    10424\n",
       " 4    10185\n",
       " 5     9827\n",
       " 2     2741\n",
       " 1     2652\n",
       "-1     1163\n",
       "Name: churn_risk_score, dtype: int64"
      ]
     },
     "execution_count": 82,
     "metadata": {},
     "output_type": "execute_result"
    }
   ],
   "source": [
    "train['churn_risk_score'].value_counts()"
   ]
  },
  {
   "cell_type": "code",
   "execution_count": 83,
   "metadata": {},
   "outputs": [],
   "source": [
    "# I have tried all churn values and 4 is giving better model performance.\n",
    "# Also most '4' values has 'sad' in our new 'satsifaction' column and so does -1.\n",
    "\n",
    "train['churn_risk_score'] = train['churn_risk_score'].replace(-1, 4)"
   ]
  },
  {
   "cell_type": "code",
   "execution_count": 84,
   "metadata": {},
   "outputs": [
    {
     "data": {
      "text/plain": [
       "(36992, 34)"
      ]
     },
     "execution_count": 84,
     "metadata": {},
     "output_type": "execute_result"
    }
   ],
   "source": [
    "train.shape"
   ]
  },
  {
   "cell_type": "markdown",
   "metadata": {},
   "source": [
    "# Label Encoding"
   ]
  },
  {
   "cell_type": "code",
   "execution_count": 85,
   "metadata": {},
   "outputs": [],
   "source": [
    "train[['rating', 'security_no', 'referral_id', 'complaint_experience', 'pays_or_not', 'need_offers', 'gender', 'region_category', 'age_category', 'how_much_spent', 'membership_category', 'joined_through_referral', 'preferred_offer_types', 'medium_of_operation', 'internet_option', 'used_special_discount', 'offer_application_preference', 'past_complaint', 'complaint_status', 'feedback', 'satsifaction']] = train[['rating', 'security_no', 'referral_id', 'complaint_experience', 'pays_or_not', 'need_offers', 'gender', 'region_category', 'age_category', 'how_much_spent', 'membership_category', 'joined_through_referral', 'preferred_offer_types', 'medium_of_operation', 'internet_option', 'used_special_discount', 'offer_application_preference', 'past_complaint', 'complaint_status', 'feedback', 'satsifaction']].apply(LabelEncoder().fit_transform)\n",
    "test[['rating', 'security_no', 'referral_id', 'complaint_experience', 'pays_or_not', 'need_offers', 'gender', 'region_category', 'age_category', 'how_much_spent', 'membership_category', 'joined_through_referral', 'preferred_offer_types', 'medium_of_operation', 'internet_option', 'used_special_discount', 'offer_application_preference', 'past_complaint', 'complaint_status', 'feedback', 'satsifaction']] = test[['rating', 'security_no', 'referral_id', 'complaint_experience', 'pays_or_not', 'need_offers', 'gender', 'region_category', 'age_category', 'how_much_spent', 'membership_category', 'joined_through_referral', 'preferred_offer_types', 'medium_of_operation', 'internet_option', 'used_special_discount', 'offer_application_preference', 'past_complaint', 'complaint_status', 'feedback', 'satsifaction']].apply(LabelEncoder().fit_transform)"
   ]
  },
  {
   "cell_type": "markdown",
   "metadata": {},
   "source": [
    "# Missing Values"
   ]
  },
  {
   "cell_type": "code",
   "execution_count": 86,
   "metadata": {},
   "outputs": [
    {
     "data": {
      "text/plain": [
       "False    33549\n",
       "True      3443\n",
       "Name: points_in_wallet, dtype: int64"
      ]
     },
     "execution_count": 86,
     "metadata": {},
     "output_type": "execute_result"
    }
   ],
   "source": [
    "# So points_in_wallet column has some missing values\n",
    "\n",
    "train['points_in_wallet'].isna().value_counts()"
   ]
  },
  {
   "cell_type": "code",
   "execution_count": 87,
   "metadata": {},
   "outputs": [],
   "source": [
    "# Filling it with it's mean\n",
    "\n",
    "train['points_in_wallet'] = train['points_in_wallet'].fillna(train['points_in_wallet'].mean())\n",
    "test['points_in_wallet'] = test['points_in_wallet'].fillna(train['points_in_wallet'].mean())"
   ]
  },
  {
   "cell_type": "code",
   "execution_count": 88,
   "metadata": {},
   "outputs": [],
   "source": [
    "del train['last_visit_time']\n",
    "del test['last_visit_time']\n",
    "\n",
    "del train['joining_date']\n",
    "del test['joining_date']"
   ]
  },
  {
   "cell_type": "code",
   "execution_count": 89,
   "metadata": {},
   "outputs": [
    {
     "data": {
      "text/html": [
       "<div>\n",
       "<style scoped>\n",
       "    .dataframe tbody tr th:only-of-type {\n",
       "        vertical-align: middle;\n",
       "    }\n",
       "\n",
       "    .dataframe tbody tr th {\n",
       "        vertical-align: top;\n",
       "    }\n",
       "\n",
       "    .dataframe thead th {\n",
       "        text-align: right;\n",
       "    }\n",
       "</style>\n",
       "<table border=\"1\" class=\"dataframe\">\n",
       "  <thead>\n",
       "    <tr style=\"text-align: right;\">\n",
       "      <th></th>\n",
       "      <th>age</th>\n",
       "      <th>gender</th>\n",
       "      <th>security_no</th>\n",
       "      <th>region_category</th>\n",
       "      <th>membership_category</th>\n",
       "      <th>joined_through_referral</th>\n",
       "      <th>referral_id</th>\n",
       "      <th>preferred_offer_types</th>\n",
       "      <th>medium_of_operation</th>\n",
       "      <th>internet_option</th>\n",
       "      <th>days_since_last_login</th>\n",
       "      <th>avg_time_spent</th>\n",
       "      <th>avg_transaction_value</th>\n",
       "      <th>avg_frequency_login_days</th>\n",
       "      <th>points_in_wallet</th>\n",
       "      <th>used_special_discount</th>\n",
       "      <th>offer_application_preference</th>\n",
       "      <th>past_complaint</th>\n",
       "      <th>complaint_status</th>\n",
       "      <th>feedback</th>\n",
       "      <th>churn_risk_score</th>\n",
       "      <th>age_category</th>\n",
       "      <th>how_much_spent</th>\n",
       "      <th>pays_or_not</th>\n",
       "      <th>Joining_Day</th>\n",
       "      <th>Joining_Month</th>\n",
       "      <th>Joining_Year</th>\n",
       "      <th>days_since_joined</th>\n",
       "      <th>need_offers</th>\n",
       "      <th>complaint_experience</th>\n",
       "      <th>rating</th>\n",
       "      <th>satsifaction</th>\n",
       "    </tr>\n",
       "  </thead>\n",
       "  <tbody>\n",
       "    <tr>\n",
       "      <th>age</th>\n",
       "      <td>1.000000</td>\n",
       "      <td>0.000819</td>\n",
       "      <td>-0.001097</td>\n",
       "      <td>0.004927</td>\n",
       "      <td>0.000388</td>\n",
       "      <td>0.002141</td>\n",
       "      <td>0.002214</td>\n",
       "      <td>-0.007031</td>\n",
       "      <td>-0.008131</td>\n",
       "      <td>0.011150</td>\n",
       "      <td>-0.003970</td>\n",
       "      <td>0.001531</td>\n",
       "      <td>-0.000473</td>\n",
       "      <td>-0.002274</td>\n",
       "      <td>0.000196</td>\n",
       "      <td>-0.005375</td>\n",
       "      <td>0.003090</td>\n",
       "      <td>0.001663</td>\n",
       "      <td>0.003429</td>\n",
       "      <td>-0.007230</td>\n",
       "      <td>0.002314</td>\n",
       "      <td>-0.075498</td>\n",
       "      <td>-0.004206</td>\n",
       "      <td>0.000323</td>\n",
       "      <td>0.000375</td>\n",
       "      <td>0.004494</td>\n",
       "      <td>-0.012752</td>\n",
       "      <td>0.010499</td>\n",
       "      <td>0.007598</td>\n",
       "      <td>-0.003561</td>\n",
       "      <td>0.003519</td>\n",
       "      <td>0.002556</td>\n",
       "    </tr>\n",
       "    <tr>\n",
       "      <th>gender</th>\n",
       "      <td>0.000819</td>\n",
       "      <td>1.000000</td>\n",
       "      <td>0.008281</td>\n",
       "      <td>0.000788</td>\n",
       "      <td>0.003766</td>\n",
       "      <td>-0.006272</td>\n",
       "      <td>0.006361</td>\n",
       "      <td>-0.000109</td>\n",
       "      <td>-0.001916</td>\n",
       "      <td>-0.004068</td>\n",
       "      <td>-0.007683</td>\n",
       "      <td>-0.009560</td>\n",
       "      <td>0.003694</td>\n",
       "      <td>-0.002303</td>\n",
       "      <td>-0.009352</td>\n",
       "      <td>-0.000728</td>\n",
       "      <td>0.000333</td>\n",
       "      <td>-0.008200</td>\n",
       "      <td>0.000301</td>\n",
       "      <td>-0.001589</td>\n",
       "      <td>-0.003606</td>\n",
       "      <td>-0.002584</td>\n",
       "      <td>0.004745</td>\n",
       "      <td>0.005231</td>\n",
       "      <td>-0.000755</td>\n",
       "      <td>-0.001965</td>\n",
       "      <td>0.003218</td>\n",
       "      <td>-0.002356</td>\n",
       "      <td>0.003291</td>\n",
       "      <td>-0.008224</td>\n",
       "      <td>-0.000412</td>\n",
       "      <td>-0.000790</td>\n",
       "    </tr>\n",
       "    <tr>\n",
       "      <th>security_no</th>\n",
       "      <td>-0.001097</td>\n",
       "      <td>0.008281</td>\n",
       "      <td>1.000000</td>\n",
       "      <td>-0.003914</td>\n",
       "      <td>-0.011006</td>\n",
       "      <td>0.001609</td>\n",
       "      <td>0.002268</td>\n",
       "      <td>0.006798</td>\n",
       "      <td>-0.006110</td>\n",
       "      <td>-0.000551</td>\n",
       "      <td>-0.007759</td>\n",
       "      <td>-0.000638</td>\n",
       "      <td>0.007594</td>\n",
       "      <td>0.000583</td>\n",
       "      <td>-0.002864</td>\n",
       "      <td>-0.002057</td>\n",
       "      <td>-0.000891</td>\n",
       "      <td>-0.008269</td>\n",
       "      <td>0.000468</td>\n",
       "      <td>0.011521</td>\n",
       "      <td>0.005470</td>\n",
       "      <td>0.007192</td>\n",
       "      <td>-0.005842</td>\n",
       "      <td>-0.000614</td>\n",
       "      <td>0.002269</td>\n",
       "      <td>0.002460</td>\n",
       "      <td>0.002454</td>\n",
       "      <td>-0.003191</td>\n",
       "      <td>-0.005909</td>\n",
       "      <td>-0.008970</td>\n",
       "      <td>0.001816</td>\n",
       "      <td>-0.003837</td>\n",
       "    </tr>\n",
       "    <tr>\n",
       "      <th>region_category</th>\n",
       "      <td>0.004927</td>\n",
       "      <td>0.000788</td>\n",
       "      <td>-0.003914</td>\n",
       "      <td>1.000000</td>\n",
       "      <td>0.001438</td>\n",
       "      <td>0.002369</td>\n",
       "      <td>-0.001011</td>\n",
       "      <td>-0.005565</td>\n",
       "      <td>-0.012591</td>\n",
       "      <td>0.008442</td>\n",
       "      <td>-0.000141</td>\n",
       "      <td>-0.000069</td>\n",
       "      <td>0.006857</td>\n",
       "      <td>-0.010964</td>\n",
       "      <td>-0.002207</td>\n",
       "      <td>0.007276</td>\n",
       "      <td>-0.006629</td>\n",
       "      <td>-0.006742</td>\n",
       "      <td>-0.004091</td>\n",
       "      <td>0.008708</td>\n",
       "      <td>-0.013696</td>\n",
       "      <td>0.000673</td>\n",
       "      <td>0.006539</td>\n",
       "      <td>0.001751</td>\n",
       "      <td>0.006657</td>\n",
       "      <td>-0.001247</td>\n",
       "      <td>0.000112</td>\n",
       "      <td>0.000096</td>\n",
       "      <td>0.005693</td>\n",
       "      <td>-0.001121</td>\n",
       "      <td>-0.019288</td>\n",
       "      <td>-0.021267</td>\n",
       "    </tr>\n",
       "    <tr>\n",
       "      <th>membership_category</th>\n",
       "      <td>0.000388</td>\n",
       "      <td>0.003766</td>\n",
       "      <td>-0.011006</td>\n",
       "      <td>0.001438</td>\n",
       "      <td>1.000000</td>\n",
       "      <td>-0.002612</td>\n",
       "      <td>0.008202</td>\n",
       "      <td>-0.018585</td>\n",
       "      <td>0.004391</td>\n",
       "      <td>0.004903</td>\n",
       "      <td>-0.000631</td>\n",
       "      <td>0.005885</td>\n",
       "      <td>0.094190</td>\n",
       "      <td>-0.050524</td>\n",
       "      <td>0.162879</td>\n",
       "      <td>0.007350</td>\n",
       "      <td>0.004544</td>\n",
       "      <td>-0.010205</td>\n",
       "      <td>-0.007075</td>\n",
       "      <td>0.086677</td>\n",
       "      <td>-0.433369</td>\n",
       "      <td>0.003712</td>\n",
       "      <td>0.084282</td>\n",
       "      <td>0.071533</td>\n",
       "      <td>-0.003731</td>\n",
       "      <td>-0.011489</td>\n",
       "      <td>0.001521</td>\n",
       "      <td>0.002462</td>\n",
       "      <td>0.023604</td>\n",
       "      <td>-0.007137</td>\n",
       "      <td>-0.171867</td>\n",
       "      <td>-0.189109</td>\n",
       "    </tr>\n",
       "    <tr>\n",
       "      <th>joined_through_referral</th>\n",
       "      <td>0.002141</td>\n",
       "      <td>-0.006272</td>\n",
       "      <td>0.001609</td>\n",
       "      <td>0.002369</td>\n",
       "      <td>-0.002612</td>\n",
       "      <td>1.000000</td>\n",
       "      <td>-0.607028</td>\n",
       "      <td>0.000083</td>\n",
       "      <td>-0.008475</td>\n",
       "      <td>-0.002973</td>\n",
       "      <td>-0.009124</td>\n",
       "      <td>0.086901</td>\n",
       "      <td>-0.024487</td>\n",
       "      <td>0.010532</td>\n",
       "      <td>-0.003748</td>\n",
       "      <td>0.010533</td>\n",
       "      <td>0.020307</td>\n",
       "      <td>0.004429</td>\n",
       "      <td>-0.001468</td>\n",
       "      <td>-0.026270</td>\n",
       "      <td>0.039968</td>\n",
       "      <td>-0.007141</td>\n",
       "      <td>-0.024106</td>\n",
       "      <td>-0.016053</td>\n",
       "      <td>-0.002972</td>\n",
       "      <td>0.004142</td>\n",
       "      <td>-0.002608</td>\n",
       "      <td>0.001161</td>\n",
       "      <td>-0.002439</td>\n",
       "      <td>0.005423</td>\n",
       "      <td>0.045836</td>\n",
       "      <td>0.049493</td>\n",
       "    </tr>\n",
       "    <tr>\n",
       "      <th>referral_id</th>\n",
       "      <td>0.002214</td>\n",
       "      <td>0.006361</td>\n",
       "      <td>0.002268</td>\n",
       "      <td>-0.001011</td>\n",
       "      <td>0.008202</td>\n",
       "      <td>-0.607028</td>\n",
       "      <td>1.000000</td>\n",
       "      <td>-0.003161</td>\n",
       "      <td>0.010458</td>\n",
       "      <td>0.001992</td>\n",
       "      <td>0.013616</td>\n",
       "      <td>-0.083460</td>\n",
       "      <td>0.026413</td>\n",
       "      <td>-0.012119</td>\n",
       "      <td>0.007041</td>\n",
       "      <td>-0.019275</td>\n",
       "      <td>-0.007522</td>\n",
       "      <td>-0.005562</td>\n",
       "      <td>-0.002504</td>\n",
       "      <td>0.022681</td>\n",
       "      <td>-0.035122</td>\n",
       "      <td>0.008996</td>\n",
       "      <td>0.020159</td>\n",
       "      <td>0.018523</td>\n",
       "      <td>0.000880</td>\n",
       "      <td>-0.005347</td>\n",
       "      <td>0.001416</td>\n",
       "      <td>0.000425</td>\n",
       "      <td>0.006331</td>\n",
       "      <td>-0.006683</td>\n",
       "      <td>-0.038657</td>\n",
       "      <td>-0.043079</td>\n",
       "    </tr>\n",
       "    <tr>\n",
       "      <th>preferred_offer_types</th>\n",
       "      <td>-0.007031</td>\n",
       "      <td>-0.000109</td>\n",
       "      <td>0.006798</td>\n",
       "      <td>-0.005565</td>\n",
       "      <td>-0.018585</td>\n",
       "      <td>0.000083</td>\n",
       "      <td>-0.003161</td>\n",
       "      <td>1.000000</td>\n",
       "      <td>-0.002102</td>\n",
       "      <td>0.001595</td>\n",
       "      <td>0.003372</td>\n",
       "      <td>-0.006104</td>\n",
       "      <td>-0.022914</td>\n",
       "      <td>0.008180</td>\n",
       "      <td>-0.006693</td>\n",
       "      <td>0.000966</td>\n",
       "      <td>0.001051</td>\n",
       "      <td>-0.005226</td>\n",
       "      <td>0.000819</td>\n",
       "      <td>-0.024809</td>\n",
       "      <td>0.035230</td>\n",
       "      <td>0.002660</td>\n",
       "      <td>-0.008675</td>\n",
       "      <td>-0.007266</td>\n",
       "      <td>0.003142</td>\n",
       "      <td>-0.000033</td>\n",
       "      <td>0.003160</td>\n",
       "      <td>-0.003066</td>\n",
       "      <td>-0.864428</td>\n",
       "      <td>-0.008006</td>\n",
       "      <td>0.048227</td>\n",
       "      <td>0.054620</td>\n",
       "    </tr>\n",
       "    <tr>\n",
       "      <th>medium_of_operation</th>\n",
       "      <td>-0.008131</td>\n",
       "      <td>-0.001916</td>\n",
       "      <td>-0.006110</td>\n",
       "      <td>-0.012591</td>\n",
       "      <td>0.004391</td>\n",
       "      <td>-0.008475</td>\n",
       "      <td>0.010458</td>\n",
       "      <td>-0.002102</td>\n",
       "      <td>1.000000</td>\n",
       "      <td>-0.007638</td>\n",
       "      <td>0.003089</td>\n",
       "      <td>-0.103395</td>\n",
       "      <td>-0.011733</td>\n",
       "      <td>0.013525</td>\n",
       "      <td>0.001372</td>\n",
       "      <td>-0.025906</td>\n",
       "      <td>-0.026717</td>\n",
       "      <td>0.005613</td>\n",
       "      <td>0.000532</td>\n",
       "      <td>-0.003325</td>\n",
       "      <td>0.019390</td>\n",
       "      <td>-0.001717</td>\n",
       "      <td>-0.016031</td>\n",
       "      <td>0.001441</td>\n",
       "      <td>0.002571</td>\n",
       "      <td>0.004664</td>\n",
       "      <td>-0.004717</td>\n",
       "      <td>0.002832</td>\n",
       "      <td>0.004357</td>\n",
       "      <td>0.000543</td>\n",
       "      <td>0.023825</td>\n",
       "      <td>0.024105</td>\n",
       "    </tr>\n",
       "    <tr>\n",
       "      <th>internet_option</th>\n",
       "      <td>0.011150</td>\n",
       "      <td>-0.004068</td>\n",
       "      <td>-0.000551</td>\n",
       "      <td>0.008442</td>\n",
       "      <td>0.004903</td>\n",
       "      <td>-0.002973</td>\n",
       "      <td>0.001992</td>\n",
       "      <td>0.001595</td>\n",
       "      <td>-0.007638</td>\n",
       "      <td>1.000000</td>\n",
       "      <td>-0.004221</td>\n",
       "      <td>-0.002078</td>\n",
       "      <td>-0.005848</td>\n",
       "      <td>-0.000735</td>\n",
       "      <td>0.004034</td>\n",
       "      <td>-0.001021</td>\n",
       "      <td>0.005341</td>\n",
       "      <td>-0.000529</td>\n",
       "      <td>-0.009356</td>\n",
       "      <td>0.000402</td>\n",
       "      <td>-0.001623</td>\n",
       "      <td>0.005226</td>\n",
       "      <td>0.000296</td>\n",
       "      <td>0.003656</td>\n",
       "      <td>0.004639</td>\n",
       "      <td>0.004680</td>\n",
       "      <td>-0.006716</td>\n",
       "      <td>0.004656</td>\n",
       "      <td>-0.005593</td>\n",
       "      <td>-0.006590</td>\n",
       "      <td>0.002197</td>\n",
       "      <td>0.002463</td>\n",
       "    </tr>\n",
       "    <tr>\n",
       "      <th>days_since_last_login</th>\n",
       "      <td>-0.003970</td>\n",
       "      <td>-0.007683</td>\n",
       "      <td>-0.007759</td>\n",
       "      <td>-0.000141</td>\n",
       "      <td>-0.000631</td>\n",
       "      <td>-0.009124</td>\n",
       "      <td>0.013616</td>\n",
       "      <td>0.003372</td>\n",
       "      <td>0.003089</td>\n",
       "      <td>-0.004221</td>\n",
       "      <td>1.000000</td>\n",
       "      <td>-0.002369</td>\n",
       "      <td>0.003934</td>\n",
       "      <td>0.000019</td>\n",
       "      <td>0.008603</td>\n",
       "      <td>-0.001641</td>\n",
       "      <td>-0.001697</td>\n",
       "      <td>-0.004185</td>\n",
       "      <td>0.001515</td>\n",
       "      <td>0.008226</td>\n",
       "      <td>-0.007888</td>\n",
       "      <td>-0.003119</td>\n",
       "      <td>0.002438</td>\n",
       "      <td>0.005879</td>\n",
       "      <td>0.003810</td>\n",
       "      <td>-0.002046</td>\n",
       "      <td>0.000226</td>\n",
       "      <td>0.000345</td>\n",
       "      <td>-0.007052</td>\n",
       "      <td>-0.013380</td>\n",
       "      <td>-0.004454</td>\n",
       "      <td>-0.008612</td>\n",
       "    </tr>\n",
       "    <tr>\n",
       "      <th>avg_time_spent</th>\n",
       "      <td>0.001531</td>\n",
       "      <td>-0.009560</td>\n",
       "      <td>-0.000638</td>\n",
       "      <td>-0.000069</td>\n",
       "      <td>0.005885</td>\n",
       "      <td>0.086901</td>\n",
       "      <td>-0.083460</td>\n",
       "      <td>-0.006104</td>\n",
       "      <td>-0.103395</td>\n",
       "      <td>-0.002078</td>\n",
       "      <td>-0.002369</td>\n",
       "      <td>1.000000</td>\n",
       "      <td>0.020888</td>\n",
       "      <td>0.002194</td>\n",
       "      <td>-0.000618</td>\n",
       "      <td>0.072625</td>\n",
       "      <td>0.071776</td>\n",
       "      <td>0.001408</td>\n",
       "      <td>0.002407</td>\n",
       "      <td>0.013992</td>\n",
       "      <td>-0.024554</td>\n",
       "      <td>-0.001724</td>\n",
       "      <td>0.013772</td>\n",
       "      <td>0.006150</td>\n",
       "      <td>-0.010078</td>\n",
       "      <td>0.009686</td>\n",
       "      <td>0.002223</td>\n",
       "      <td>-0.005030</td>\n",
       "      <td>0.000977</td>\n",
       "      <td>-0.005923</td>\n",
       "      <td>-0.031969</td>\n",
       "      <td>-0.035721</td>\n",
       "    </tr>\n",
       "    <tr>\n",
       "      <th>avg_transaction_value</th>\n",
       "      <td>-0.000473</td>\n",
       "      <td>0.003694</td>\n",
       "      <td>0.007594</td>\n",
       "      <td>0.006857</td>\n",
       "      <td>0.094190</td>\n",
       "      <td>-0.024487</td>\n",
       "      <td>0.026413</td>\n",
       "      <td>-0.022914</td>\n",
       "      <td>-0.011733</td>\n",
       "      <td>-0.005848</td>\n",
       "      <td>0.003934</td>\n",
       "      <td>0.020888</td>\n",
       "      <td>1.000000</td>\n",
       "      <td>-0.124471</td>\n",
       "      <td>0.083729</td>\n",
       "      <td>0.006703</td>\n",
       "      <td>0.023522</td>\n",
       "      <td>-0.003486</td>\n",
       "      <td>-0.002408</td>\n",
       "      <td>0.210152</td>\n",
       "      <td>-0.357921</td>\n",
       "      <td>-0.010646</td>\n",
       "      <td>0.184643</td>\n",
       "      <td>0.102966</td>\n",
       "      <td>0.005514</td>\n",
       "      <td>-0.000783</td>\n",
       "      <td>-0.000702</td>\n",
       "      <td>0.000775</td>\n",
       "      <td>0.036970</td>\n",
       "      <td>-0.003307</td>\n",
       "      <td>-0.429033</td>\n",
       "      <td>-0.472208</td>\n",
       "    </tr>\n",
       "    <tr>\n",
       "      <th>avg_frequency_login_days</th>\n",
       "      <td>-0.002274</td>\n",
       "      <td>-0.002303</td>\n",
       "      <td>0.000583</td>\n",
       "      <td>-0.010964</td>\n",
       "      <td>-0.050524</td>\n",
       "      <td>0.010532</td>\n",
       "      <td>-0.012119</td>\n",
       "      <td>0.008180</td>\n",
       "      <td>0.013525</td>\n",
       "      <td>-0.000735</td>\n",
       "      <td>0.000019</td>\n",
       "      <td>0.002194</td>\n",
       "      <td>-0.124471</td>\n",
       "      <td>1.000000</td>\n",
       "      <td>-0.041190</td>\n",
       "      <td>-0.001807</td>\n",
       "      <td>-0.007632</td>\n",
       "      <td>0.005891</td>\n",
       "      <td>0.011892</td>\n",
       "      <td>-0.109574</td>\n",
       "      <td>0.192702</td>\n",
       "      <td>-0.006353</td>\n",
       "      <td>-0.103469</td>\n",
       "      <td>-0.052951</td>\n",
       "      <td>0.011586</td>\n",
       "      <td>-0.002714</td>\n",
       "      <td>-0.003987</td>\n",
       "      <td>0.004348</td>\n",
       "      <td>-0.019358</td>\n",
       "      <td>0.008564</td>\n",
       "      <td>0.230564</td>\n",
       "      <td>0.251600</td>\n",
       "    </tr>\n",
       "    <tr>\n",
       "      <th>points_in_wallet</th>\n",
       "      <td>0.000196</td>\n",
       "      <td>-0.009352</td>\n",
       "      <td>-0.002864</td>\n",
       "      <td>-0.002207</td>\n",
       "      <td>0.162879</td>\n",
       "      <td>-0.003748</td>\n",
       "      <td>0.007041</td>\n",
       "      <td>-0.006693</td>\n",
       "      <td>0.001372</td>\n",
       "      <td>0.004034</td>\n",
       "      <td>0.008603</td>\n",
       "      <td>-0.000618</td>\n",
       "      <td>0.083729</td>\n",
       "      <td>-0.041190</td>\n",
       "      <td>1.000000</td>\n",
       "      <td>0.004942</td>\n",
       "      <td>0.003944</td>\n",
       "      <td>-0.004501</td>\n",
       "      <td>-0.005084</td>\n",
       "      <td>0.082928</td>\n",
       "      <td>-0.305696</td>\n",
       "      <td>-0.003423</td>\n",
       "      <td>0.230114</td>\n",
       "      <td>0.167762</td>\n",
       "      <td>0.001472</td>\n",
       "      <td>-0.002752</td>\n",
       "      <td>0.002848</td>\n",
       "      <td>-0.001822</td>\n",
       "      <td>0.011933</td>\n",
       "      <td>-0.007199</td>\n",
       "      <td>-0.153783</td>\n",
       "      <td>-0.171359</td>\n",
       "    </tr>\n",
       "    <tr>\n",
       "      <th>used_special_discount</th>\n",
       "      <td>-0.005375</td>\n",
       "      <td>-0.000728</td>\n",
       "      <td>-0.002057</td>\n",
       "      <td>0.007276</td>\n",
       "      <td>0.007350</td>\n",
       "      <td>0.010533</td>\n",
       "      <td>-0.019275</td>\n",
       "      <td>0.000966</td>\n",
       "      <td>-0.025906</td>\n",
       "      <td>-0.001021</td>\n",
       "      <td>-0.001641</td>\n",
       "      <td>0.072625</td>\n",
       "      <td>0.006703</td>\n",
       "      <td>-0.001807</td>\n",
       "      <td>0.004942</td>\n",
       "      <td>1.000000</td>\n",
       "      <td>-0.814132</td>\n",
       "      <td>0.007421</td>\n",
       "      <td>0.000893</td>\n",
       "      <td>0.006138</td>\n",
       "      <td>-0.011062</td>\n",
       "      <td>0.003988</td>\n",
       "      <td>0.008266</td>\n",
       "      <td>0.007478</td>\n",
       "      <td>0.002851</td>\n",
       "      <td>0.000910</td>\n",
       "      <td>0.000157</td>\n",
       "      <td>-0.000530</td>\n",
       "      <td>-0.002737</td>\n",
       "      <td>0.010460</td>\n",
       "      <td>-0.008896</td>\n",
       "      <td>-0.009440</td>\n",
       "    </tr>\n",
       "    <tr>\n",
       "      <th>offer_application_preference</th>\n",
       "      <td>0.003090</td>\n",
       "      <td>0.000333</td>\n",
       "      <td>-0.000891</td>\n",
       "      <td>-0.006629</td>\n",
       "      <td>0.004544</td>\n",
       "      <td>0.020307</td>\n",
       "      <td>-0.007522</td>\n",
       "      <td>0.001051</td>\n",
       "      <td>-0.026717</td>\n",
       "      <td>0.005341</td>\n",
       "      <td>-0.001697</td>\n",
       "      <td>0.071776</td>\n",
       "      <td>0.023522</td>\n",
       "      <td>-0.007632</td>\n",
       "      <td>0.003944</td>\n",
       "      <td>-0.814132</td>\n",
       "      <td>1.000000</td>\n",
       "      <td>-0.007223</td>\n",
       "      <td>0.001459</td>\n",
       "      <td>0.015585</td>\n",
       "      <td>-0.034686</td>\n",
       "      <td>0.000547</td>\n",
       "      <td>0.015615</td>\n",
       "      <td>0.008069</td>\n",
       "      <td>-0.002625</td>\n",
       "      <td>0.001426</td>\n",
       "      <td>-0.001677</td>\n",
       "      <td>0.001183</td>\n",
       "      <td>0.001551</td>\n",
       "      <td>-0.013984</td>\n",
       "      <td>-0.046215</td>\n",
       "      <td>-0.049683</td>\n",
       "    </tr>\n",
       "    <tr>\n",
       "      <th>past_complaint</th>\n",
       "      <td>0.001663</td>\n",
       "      <td>-0.008200</td>\n",
       "      <td>-0.008269</td>\n",
       "      <td>-0.006742</td>\n",
       "      <td>-0.010205</td>\n",
       "      <td>0.004429</td>\n",
       "      <td>-0.005562</td>\n",
       "      <td>-0.005226</td>\n",
       "      <td>0.005613</td>\n",
       "      <td>-0.000529</td>\n",
       "      <td>-0.004185</td>\n",
       "      <td>0.001408</td>\n",
       "      <td>-0.003486</td>\n",
       "      <td>0.005891</td>\n",
       "      <td>-0.004501</td>\n",
       "      <td>0.007421</td>\n",
       "      <td>-0.007223</td>\n",
       "      <td>1.000000</td>\n",
       "      <td>0.517335</td>\n",
       "      <td>-0.006910</td>\n",
       "      <td>0.011807</td>\n",
       "      <td>-0.006866</td>\n",
       "      <td>-0.003431</td>\n",
       "      <td>-0.003869</td>\n",
       "      <td>0.001941</td>\n",
       "      <td>-0.001896</td>\n",
       "      <td>-0.000779</td>\n",
       "      <td>0.001305</td>\n",
       "      <td>0.006097</td>\n",
       "      <td>0.578408</td>\n",
       "      <td>0.013768</td>\n",
       "      <td>0.014095</td>\n",
       "    </tr>\n",
       "    <tr>\n",
       "      <th>complaint_status</th>\n",
       "      <td>0.003429</td>\n",
       "      <td>0.000301</td>\n",
       "      <td>0.000468</td>\n",
       "      <td>-0.004091</td>\n",
       "      <td>-0.007075</td>\n",
       "      <td>-0.001468</td>\n",
       "      <td>-0.002504</td>\n",
       "      <td>0.000819</td>\n",
       "      <td>0.000532</td>\n",
       "      <td>-0.009356</td>\n",
       "      <td>0.001515</td>\n",
       "      <td>0.002407</td>\n",
       "      <td>-0.002408</td>\n",
       "      <td>0.011892</td>\n",
       "      <td>-0.005084</td>\n",
       "      <td>0.000893</td>\n",
       "      <td>0.001459</td>\n",
       "      <td>0.517335</td>\n",
       "      <td>1.000000</td>\n",
       "      <td>-0.005301</td>\n",
       "      <td>0.003834</td>\n",
       "      <td>0.003719</td>\n",
       "      <td>0.002058</td>\n",
       "      <td>-0.001928</td>\n",
       "      <td>0.006587</td>\n",
       "      <td>0.002989</td>\n",
       "      <td>0.000783</td>\n",
       "      <td>-0.001910</td>\n",
       "      <td>0.004029</td>\n",
       "      <td>0.186441</td>\n",
       "      <td>0.008773</td>\n",
       "      <td>0.007776</td>\n",
       "    </tr>\n",
       "    <tr>\n",
       "      <th>feedback</th>\n",
       "      <td>-0.007230</td>\n",
       "      <td>-0.001589</td>\n",
       "      <td>0.011521</td>\n",
       "      <td>0.008708</td>\n",
       "      <td>0.086677</td>\n",
       "      <td>-0.026270</td>\n",
       "      <td>0.022681</td>\n",
       "      <td>-0.024809</td>\n",
       "      <td>-0.003325</td>\n",
       "      <td>0.000402</td>\n",
       "      <td>0.008226</td>\n",
       "      <td>0.013992</td>\n",
       "      <td>0.210152</td>\n",
       "      <td>-0.109574</td>\n",
       "      <td>0.082928</td>\n",
       "      <td>0.006138</td>\n",
       "      <td>0.015585</td>\n",
       "      <td>-0.006910</td>\n",
       "      <td>-0.005301</td>\n",
       "      <td>1.000000</td>\n",
       "      <td>-0.329962</td>\n",
       "      <td>-0.003660</td>\n",
       "      <td>0.171355</td>\n",
       "      <td>0.095032</td>\n",
       "      <td>-0.004145</td>\n",
       "      <td>0.003882</td>\n",
       "      <td>0.006303</td>\n",
       "      <td>-0.007094</td>\n",
       "      <td>0.038194</td>\n",
       "      <td>0.002783</td>\n",
       "      <td>-0.196260</td>\n",
       "      <td>-0.440546</td>\n",
       "    </tr>\n",
       "    <tr>\n",
       "      <th>churn_risk_score</th>\n",
       "      <td>0.002314</td>\n",
       "      <td>-0.003606</td>\n",
       "      <td>0.005470</td>\n",
       "      <td>-0.013696</td>\n",
       "      <td>-0.433369</td>\n",
       "      <td>0.039968</td>\n",
       "      <td>-0.035122</td>\n",
       "      <td>0.035230</td>\n",
       "      <td>0.019390</td>\n",
       "      <td>-0.001623</td>\n",
       "      <td>-0.007888</td>\n",
       "      <td>-0.024554</td>\n",
       "      <td>-0.357921</td>\n",
       "      <td>0.192702</td>\n",
       "      <td>-0.305696</td>\n",
       "      <td>-0.011062</td>\n",
       "      <td>-0.034686</td>\n",
       "      <td>0.011807</td>\n",
       "      <td>0.003834</td>\n",
       "      <td>-0.329962</td>\n",
       "      <td>1.000000</td>\n",
       "      <td>-0.001693</td>\n",
       "      <td>-0.660093</td>\n",
       "      <td>-0.450994</td>\n",
       "      <td>0.007836</td>\n",
       "      <td>0.008430</td>\n",
       "      <td>0.006975</td>\n",
       "      <td>-0.009568</td>\n",
       "      <td>-0.059325</td>\n",
       "      <td>0.001632</td>\n",
       "      <td>0.675415</td>\n",
       "      <td>0.739671</td>\n",
       "    </tr>\n",
       "    <tr>\n",
       "      <th>age_category</th>\n",
       "      <td>-0.075498</td>\n",
       "      <td>-0.002584</td>\n",
       "      <td>0.007192</td>\n",
       "      <td>0.000673</td>\n",
       "      <td>0.003712</td>\n",
       "      <td>-0.007141</td>\n",
       "      <td>0.008996</td>\n",
       "      <td>0.002660</td>\n",
       "      <td>-0.001717</td>\n",
       "      <td>0.005226</td>\n",
       "      <td>-0.003119</td>\n",
       "      <td>-0.001724</td>\n",
       "      <td>-0.010646</td>\n",
       "      <td>-0.006353</td>\n",
       "      <td>-0.003423</td>\n",
       "      <td>0.003988</td>\n",
       "      <td>0.000547</td>\n",
       "      <td>-0.006866</td>\n",
       "      <td>0.003719</td>\n",
       "      <td>-0.003660</td>\n",
       "      <td>-0.001693</td>\n",
       "      <td>1.000000</td>\n",
       "      <td>0.011871</td>\n",
       "      <td>0.018199</td>\n",
       "      <td>-0.004541</td>\n",
       "      <td>-0.002308</td>\n",
       "      <td>0.003549</td>\n",
       "      <td>-0.002453</td>\n",
       "      <td>-0.002314</td>\n",
       "      <td>-0.005427</td>\n",
       "      <td>0.000136</td>\n",
       "      <td>0.002991</td>\n",
       "    </tr>\n",
       "    <tr>\n",
       "      <th>how_much_spent</th>\n",
       "      <td>-0.004206</td>\n",
       "      <td>0.004745</td>\n",
       "      <td>-0.005842</td>\n",
       "      <td>0.006539</td>\n",
       "      <td>0.084282</td>\n",
       "      <td>-0.024106</td>\n",
       "      <td>0.020159</td>\n",
       "      <td>-0.008675</td>\n",
       "      <td>-0.016031</td>\n",
       "      <td>0.000296</td>\n",
       "      <td>0.002438</td>\n",
       "      <td>0.013772</td>\n",
       "      <td>0.184643</td>\n",
       "      <td>-0.103469</td>\n",
       "      <td>0.230114</td>\n",
       "      <td>0.008266</td>\n",
       "      <td>0.015615</td>\n",
       "      <td>-0.003431</td>\n",
       "      <td>0.002058</td>\n",
       "      <td>0.171355</td>\n",
       "      <td>-0.660093</td>\n",
       "      <td>0.011871</td>\n",
       "      <td>1.000000</td>\n",
       "      <td>0.437254</td>\n",
       "      <td>-0.006228</td>\n",
       "      <td>-0.006669</td>\n",
       "      <td>-0.008579</td>\n",
       "      <td>0.010456</td>\n",
       "      <td>0.020639</td>\n",
       "      <td>0.004276</td>\n",
       "      <td>-0.346644</td>\n",
       "      <td>-0.380095</td>\n",
       "    </tr>\n",
       "    <tr>\n",
       "      <th>pays_or_not</th>\n",
       "      <td>0.000323</td>\n",
       "      <td>0.005231</td>\n",
       "      <td>-0.000614</td>\n",
       "      <td>0.001751</td>\n",
       "      <td>0.071533</td>\n",
       "      <td>-0.016053</td>\n",
       "      <td>0.018523</td>\n",
       "      <td>-0.007266</td>\n",
       "      <td>0.001441</td>\n",
       "      <td>0.003656</td>\n",
       "      <td>0.005879</td>\n",
       "      <td>0.006150</td>\n",
       "      <td>0.102966</td>\n",
       "      <td>-0.052951</td>\n",
       "      <td>0.167762</td>\n",
       "      <td>0.007478</td>\n",
       "      <td>0.008069</td>\n",
       "      <td>-0.003869</td>\n",
       "      <td>-0.001928</td>\n",
       "      <td>0.095032</td>\n",
       "      <td>-0.450994</td>\n",
       "      <td>0.018199</td>\n",
       "      <td>0.437254</td>\n",
       "      <td>1.000000</td>\n",
       "      <td>0.001078</td>\n",
       "      <td>-0.005595</td>\n",
       "      <td>-0.011664</td>\n",
       "      <td>0.012798</td>\n",
       "      <td>0.013198</td>\n",
       "      <td>-0.000652</td>\n",
       "      <td>-0.195180</td>\n",
       "      <td>-0.215267</td>\n",
       "    </tr>\n",
       "    <tr>\n",
       "      <th>Joining_Day</th>\n",
       "      <td>0.000375</td>\n",
       "      <td>-0.000755</td>\n",
       "      <td>0.002269</td>\n",
       "      <td>0.006657</td>\n",
       "      <td>-0.003731</td>\n",
       "      <td>-0.002972</td>\n",
       "      <td>0.000880</td>\n",
       "      <td>0.003142</td>\n",
       "      <td>0.002571</td>\n",
       "      <td>0.004639</td>\n",
       "      <td>0.003810</td>\n",
       "      <td>-0.010078</td>\n",
       "      <td>0.005514</td>\n",
       "      <td>0.011586</td>\n",
       "      <td>0.001472</td>\n",
       "      <td>0.002851</td>\n",
       "      <td>-0.002625</td>\n",
       "      <td>0.001941</td>\n",
       "      <td>0.006587</td>\n",
       "      <td>-0.004145</td>\n",
       "      <td>0.007836</td>\n",
       "      <td>-0.004541</td>\n",
       "      <td>-0.006228</td>\n",
       "      <td>0.001078</td>\n",
       "      <td>1.000000</td>\n",
       "      <td>0.004728</td>\n",
       "      <td>-0.000172</td>\n",
       "      <td>-0.029018</td>\n",
       "      <td>-0.003157</td>\n",
       "      <td>-0.002186</td>\n",
       "      <td>0.002423</td>\n",
       "      <td>-0.000236</td>\n",
       "    </tr>\n",
       "    <tr>\n",
       "      <th>Joining_Month</th>\n",
       "      <td>0.004494</td>\n",
       "      <td>-0.001965</td>\n",
       "      <td>0.002460</td>\n",
       "      <td>-0.001247</td>\n",
       "      <td>-0.011489</td>\n",
       "      <td>0.004142</td>\n",
       "      <td>-0.005347</td>\n",
       "      <td>-0.000033</td>\n",
       "      <td>0.004664</td>\n",
       "      <td>0.004680</td>\n",
       "      <td>-0.002046</td>\n",
       "      <td>0.009686</td>\n",
       "      <td>-0.000783</td>\n",
       "      <td>-0.002714</td>\n",
       "      <td>-0.002752</td>\n",
       "      <td>0.000910</td>\n",
       "      <td>0.001426</td>\n",
       "      <td>-0.001896</td>\n",
       "      <td>0.002989</td>\n",
       "      <td>0.003882</td>\n",
       "      <td>0.008430</td>\n",
       "      <td>-0.002308</td>\n",
       "      <td>-0.006669</td>\n",
       "      <td>-0.005595</td>\n",
       "      <td>0.004728</td>\n",
       "      <td>1.000000</td>\n",
       "      <td>0.003609</td>\n",
       "      <td>-0.333982</td>\n",
       "      <td>0.000793</td>\n",
       "      <td>-0.002691</td>\n",
       "      <td>0.000528</td>\n",
       "      <td>0.002339</td>\n",
       "    </tr>\n",
       "    <tr>\n",
       "      <th>Joining_Year</th>\n",
       "      <td>-0.012752</td>\n",
       "      <td>0.003218</td>\n",
       "      <td>0.002454</td>\n",
       "      <td>0.000112</td>\n",
       "      <td>0.001521</td>\n",
       "      <td>-0.002608</td>\n",
       "      <td>0.001416</td>\n",
       "      <td>0.003160</td>\n",
       "      <td>-0.004717</td>\n",
       "      <td>-0.006716</td>\n",
       "      <td>0.000226</td>\n",
       "      <td>0.002223</td>\n",
       "      <td>-0.000702</td>\n",
       "      <td>-0.003987</td>\n",
       "      <td>0.002848</td>\n",
       "      <td>0.000157</td>\n",
       "      <td>-0.001677</td>\n",
       "      <td>-0.000779</td>\n",
       "      <td>0.000783</td>\n",
       "      <td>0.006303</td>\n",
       "      <td>0.006975</td>\n",
       "      <td>0.003549</td>\n",
       "      <td>-0.008579</td>\n",
       "      <td>-0.011664</td>\n",
       "      <td>-0.000172</td>\n",
       "      <td>0.003609</td>\n",
       "      <td>1.000000</td>\n",
       "      <td>-0.943372</td>\n",
       "      <td>-0.001452</td>\n",
       "      <td>0.000657</td>\n",
       "      <td>0.005514</td>\n",
       "      <td>0.002167</td>\n",
       "    </tr>\n",
       "    <tr>\n",
       "      <th>days_since_joined</th>\n",
       "      <td>0.010499</td>\n",
       "      <td>-0.002356</td>\n",
       "      <td>-0.003191</td>\n",
       "      <td>0.000096</td>\n",
       "      <td>0.002462</td>\n",
       "      <td>0.001161</td>\n",
       "      <td>0.000425</td>\n",
       "      <td>-0.003066</td>\n",
       "      <td>0.002832</td>\n",
       "      <td>0.004656</td>\n",
       "      <td>0.000345</td>\n",
       "      <td>-0.005030</td>\n",
       "      <td>0.000775</td>\n",
       "      <td>0.004348</td>\n",
       "      <td>-0.001822</td>\n",
       "      <td>-0.000530</td>\n",
       "      <td>0.001183</td>\n",
       "      <td>0.001305</td>\n",
       "      <td>-0.001910</td>\n",
       "      <td>-0.007094</td>\n",
       "      <td>-0.009568</td>\n",
       "      <td>-0.002453</td>\n",
       "      <td>0.010456</td>\n",
       "      <td>0.012798</td>\n",
       "      <td>-0.029018</td>\n",
       "      <td>-0.333982</td>\n",
       "      <td>-0.943372</td>\n",
       "      <td>1.000000</td>\n",
       "      <td>0.001209</td>\n",
       "      <td>0.000321</td>\n",
       "      <td>-0.005430</td>\n",
       "      <td>-0.002807</td>\n",
       "    </tr>\n",
       "    <tr>\n",
       "      <th>need_offers</th>\n",
       "      <td>0.007598</td>\n",
       "      <td>0.003291</td>\n",
       "      <td>-0.005909</td>\n",
       "      <td>0.005693</td>\n",
       "      <td>0.023604</td>\n",
       "      <td>-0.002439</td>\n",
       "      <td>0.006331</td>\n",
       "      <td>-0.864428</td>\n",
       "      <td>0.004357</td>\n",
       "      <td>-0.005593</td>\n",
       "      <td>-0.007052</td>\n",
       "      <td>0.000977</td>\n",
       "      <td>0.036970</td>\n",
       "      <td>-0.019358</td>\n",
       "      <td>0.011933</td>\n",
       "      <td>-0.002737</td>\n",
       "      <td>0.001551</td>\n",
       "      <td>0.006097</td>\n",
       "      <td>0.004029</td>\n",
       "      <td>0.038194</td>\n",
       "      <td>-0.059325</td>\n",
       "      <td>-0.002314</td>\n",
       "      <td>0.020639</td>\n",
       "      <td>0.013198</td>\n",
       "      <td>-0.003157</td>\n",
       "      <td>0.000793</td>\n",
       "      <td>-0.001452</td>\n",
       "      <td>0.001209</td>\n",
       "      <td>1.000000</td>\n",
       "      <td>0.005817</td>\n",
       "      <td>-0.074424</td>\n",
       "      <td>-0.084188</td>\n",
       "    </tr>\n",
       "    <tr>\n",
       "      <th>complaint_experience</th>\n",
       "      <td>-0.003561</td>\n",
       "      <td>-0.008224</td>\n",
       "      <td>-0.008970</td>\n",
       "      <td>-0.001121</td>\n",
       "      <td>-0.007137</td>\n",
       "      <td>0.005423</td>\n",
       "      <td>-0.006683</td>\n",
       "      <td>-0.008006</td>\n",
       "      <td>0.000543</td>\n",
       "      <td>-0.006590</td>\n",
       "      <td>-0.013380</td>\n",
       "      <td>-0.005923</td>\n",
       "      <td>-0.003307</td>\n",
       "      <td>0.008564</td>\n",
       "      <td>-0.007199</td>\n",
       "      <td>0.010460</td>\n",
       "      <td>-0.013984</td>\n",
       "      <td>0.578408</td>\n",
       "      <td>0.186441</td>\n",
       "      <td>0.002783</td>\n",
       "      <td>0.001632</td>\n",
       "      <td>-0.005427</td>\n",
       "      <td>0.004276</td>\n",
       "      <td>-0.000652</td>\n",
       "      <td>-0.002186</td>\n",
       "      <td>-0.002691</td>\n",
       "      <td>0.000657</td>\n",
       "      <td>0.000321</td>\n",
       "      <td>0.005817</td>\n",
       "      <td>1.000000</td>\n",
       "      <td>0.004381</td>\n",
       "      <td>0.003048</td>\n",
       "    </tr>\n",
       "    <tr>\n",
       "      <th>rating</th>\n",
       "      <td>0.003519</td>\n",
       "      <td>-0.000412</td>\n",
       "      <td>0.001816</td>\n",
       "      <td>-0.019288</td>\n",
       "      <td>-0.171867</td>\n",
       "      <td>0.045836</td>\n",
       "      <td>-0.038657</td>\n",
       "      <td>0.048227</td>\n",
       "      <td>0.023825</td>\n",
       "      <td>0.002197</td>\n",
       "      <td>-0.004454</td>\n",
       "      <td>-0.031969</td>\n",
       "      <td>-0.429033</td>\n",
       "      <td>0.230564</td>\n",
       "      <td>-0.153783</td>\n",
       "      <td>-0.008896</td>\n",
       "      <td>-0.046215</td>\n",
       "      <td>0.013768</td>\n",
       "      <td>0.008773</td>\n",
       "      <td>-0.196260</td>\n",
       "      <td>0.675415</td>\n",
       "      <td>0.000136</td>\n",
       "      <td>-0.346644</td>\n",
       "      <td>-0.195180</td>\n",
       "      <td>0.002423</td>\n",
       "      <td>0.000528</td>\n",
       "      <td>0.005514</td>\n",
       "      <td>-0.005430</td>\n",
       "      <td>-0.074424</td>\n",
       "      <td>0.004381</td>\n",
       "      <td>1.000000</td>\n",
       "      <td>0.913586</td>\n",
       "    </tr>\n",
       "    <tr>\n",
       "      <th>satsifaction</th>\n",
       "      <td>0.002556</td>\n",
       "      <td>-0.000790</td>\n",
       "      <td>-0.003837</td>\n",
       "      <td>-0.021267</td>\n",
       "      <td>-0.189109</td>\n",
       "      <td>0.049493</td>\n",
       "      <td>-0.043079</td>\n",
       "      <td>0.054620</td>\n",
       "      <td>0.024105</td>\n",
       "      <td>0.002463</td>\n",
       "      <td>-0.008612</td>\n",
       "      <td>-0.035721</td>\n",
       "      <td>-0.472208</td>\n",
       "      <td>0.251600</td>\n",
       "      <td>-0.171359</td>\n",
       "      <td>-0.009440</td>\n",
       "      <td>-0.049683</td>\n",
       "      <td>0.014095</td>\n",
       "      <td>0.007776</td>\n",
       "      <td>-0.440546</td>\n",
       "      <td>0.739671</td>\n",
       "      <td>0.002991</td>\n",
       "      <td>-0.380095</td>\n",
       "      <td>-0.215267</td>\n",
       "      <td>-0.000236</td>\n",
       "      <td>0.002339</td>\n",
       "      <td>0.002167</td>\n",
       "      <td>-0.002807</td>\n",
       "      <td>-0.084188</td>\n",
       "      <td>0.003048</td>\n",
       "      <td>0.913586</td>\n",
       "      <td>1.000000</td>\n",
       "    </tr>\n",
       "  </tbody>\n",
       "</table>\n",
       "</div>"
      ],
      "text/plain": [
       "                                   age    gender  security_no  \\\n",
       "age                           1.000000  0.000819    -0.001097   \n",
       "gender                        0.000819  1.000000     0.008281   \n",
       "security_no                  -0.001097  0.008281     1.000000   \n",
       "region_category               0.004927  0.000788    -0.003914   \n",
       "membership_category           0.000388  0.003766    -0.011006   \n",
       "joined_through_referral       0.002141 -0.006272     0.001609   \n",
       "referral_id                   0.002214  0.006361     0.002268   \n",
       "preferred_offer_types        -0.007031 -0.000109     0.006798   \n",
       "medium_of_operation          -0.008131 -0.001916    -0.006110   \n",
       "internet_option               0.011150 -0.004068    -0.000551   \n",
       "days_since_last_login        -0.003970 -0.007683    -0.007759   \n",
       "avg_time_spent                0.001531 -0.009560    -0.000638   \n",
       "avg_transaction_value        -0.000473  0.003694     0.007594   \n",
       "avg_frequency_login_days     -0.002274 -0.002303     0.000583   \n",
       "points_in_wallet              0.000196 -0.009352    -0.002864   \n",
       "used_special_discount        -0.005375 -0.000728    -0.002057   \n",
       "offer_application_preference  0.003090  0.000333    -0.000891   \n",
       "past_complaint                0.001663 -0.008200    -0.008269   \n",
       "complaint_status              0.003429  0.000301     0.000468   \n",
       "feedback                     -0.007230 -0.001589     0.011521   \n",
       "churn_risk_score              0.002314 -0.003606     0.005470   \n",
       "age_category                 -0.075498 -0.002584     0.007192   \n",
       "how_much_spent               -0.004206  0.004745    -0.005842   \n",
       "pays_or_not                   0.000323  0.005231    -0.000614   \n",
       "Joining_Day                   0.000375 -0.000755     0.002269   \n",
       "Joining_Month                 0.004494 -0.001965     0.002460   \n",
       "Joining_Year                 -0.012752  0.003218     0.002454   \n",
       "days_since_joined             0.010499 -0.002356    -0.003191   \n",
       "need_offers                   0.007598  0.003291    -0.005909   \n",
       "complaint_experience         -0.003561 -0.008224    -0.008970   \n",
       "rating                        0.003519 -0.000412     0.001816   \n",
       "satsifaction                  0.002556 -0.000790    -0.003837   \n",
       "\n",
       "                              region_category  membership_category  \\\n",
       "age                                  0.004927             0.000388   \n",
       "gender                               0.000788             0.003766   \n",
       "security_no                         -0.003914            -0.011006   \n",
       "region_category                      1.000000             0.001438   \n",
       "membership_category                  0.001438             1.000000   \n",
       "joined_through_referral              0.002369            -0.002612   \n",
       "referral_id                         -0.001011             0.008202   \n",
       "preferred_offer_types               -0.005565            -0.018585   \n",
       "medium_of_operation                 -0.012591             0.004391   \n",
       "internet_option                      0.008442             0.004903   \n",
       "days_since_last_login               -0.000141            -0.000631   \n",
       "avg_time_spent                      -0.000069             0.005885   \n",
       "avg_transaction_value                0.006857             0.094190   \n",
       "avg_frequency_login_days            -0.010964            -0.050524   \n",
       "points_in_wallet                    -0.002207             0.162879   \n",
       "used_special_discount                0.007276             0.007350   \n",
       "offer_application_preference        -0.006629             0.004544   \n",
       "past_complaint                      -0.006742            -0.010205   \n",
       "complaint_status                    -0.004091            -0.007075   \n",
       "feedback                             0.008708             0.086677   \n",
       "churn_risk_score                    -0.013696            -0.433369   \n",
       "age_category                         0.000673             0.003712   \n",
       "how_much_spent                       0.006539             0.084282   \n",
       "pays_or_not                          0.001751             0.071533   \n",
       "Joining_Day                          0.006657            -0.003731   \n",
       "Joining_Month                       -0.001247            -0.011489   \n",
       "Joining_Year                         0.000112             0.001521   \n",
       "days_since_joined                    0.000096             0.002462   \n",
       "need_offers                          0.005693             0.023604   \n",
       "complaint_experience                -0.001121            -0.007137   \n",
       "rating                              -0.019288            -0.171867   \n",
       "satsifaction                        -0.021267            -0.189109   \n",
       "\n",
       "                              joined_through_referral  referral_id  \\\n",
       "age                                          0.002141     0.002214   \n",
       "gender                                      -0.006272     0.006361   \n",
       "security_no                                  0.001609     0.002268   \n",
       "region_category                              0.002369    -0.001011   \n",
       "membership_category                         -0.002612     0.008202   \n",
       "joined_through_referral                      1.000000    -0.607028   \n",
       "referral_id                                 -0.607028     1.000000   \n",
       "preferred_offer_types                        0.000083    -0.003161   \n",
       "medium_of_operation                         -0.008475     0.010458   \n",
       "internet_option                             -0.002973     0.001992   \n",
       "days_since_last_login                       -0.009124     0.013616   \n",
       "avg_time_spent                               0.086901    -0.083460   \n",
       "avg_transaction_value                       -0.024487     0.026413   \n",
       "avg_frequency_login_days                     0.010532    -0.012119   \n",
       "points_in_wallet                            -0.003748     0.007041   \n",
       "used_special_discount                        0.010533    -0.019275   \n",
       "offer_application_preference                 0.020307    -0.007522   \n",
       "past_complaint                               0.004429    -0.005562   \n",
       "complaint_status                            -0.001468    -0.002504   \n",
       "feedback                                    -0.026270     0.022681   \n",
       "churn_risk_score                             0.039968    -0.035122   \n",
       "age_category                                -0.007141     0.008996   \n",
       "how_much_spent                              -0.024106     0.020159   \n",
       "pays_or_not                                 -0.016053     0.018523   \n",
       "Joining_Day                                 -0.002972     0.000880   \n",
       "Joining_Month                                0.004142    -0.005347   \n",
       "Joining_Year                                -0.002608     0.001416   \n",
       "days_since_joined                            0.001161     0.000425   \n",
       "need_offers                                 -0.002439     0.006331   \n",
       "complaint_experience                         0.005423    -0.006683   \n",
       "rating                                       0.045836    -0.038657   \n",
       "satsifaction                                 0.049493    -0.043079   \n",
       "\n",
       "                              preferred_offer_types  medium_of_operation  \\\n",
       "age                                       -0.007031            -0.008131   \n",
       "gender                                    -0.000109            -0.001916   \n",
       "security_no                                0.006798            -0.006110   \n",
       "region_category                           -0.005565            -0.012591   \n",
       "membership_category                       -0.018585             0.004391   \n",
       "joined_through_referral                    0.000083            -0.008475   \n",
       "referral_id                               -0.003161             0.010458   \n",
       "preferred_offer_types                      1.000000            -0.002102   \n",
       "medium_of_operation                       -0.002102             1.000000   \n",
       "internet_option                            0.001595            -0.007638   \n",
       "days_since_last_login                      0.003372             0.003089   \n",
       "avg_time_spent                            -0.006104            -0.103395   \n",
       "avg_transaction_value                     -0.022914            -0.011733   \n",
       "avg_frequency_login_days                   0.008180             0.013525   \n",
       "points_in_wallet                          -0.006693             0.001372   \n",
       "used_special_discount                      0.000966            -0.025906   \n",
       "offer_application_preference               0.001051            -0.026717   \n",
       "past_complaint                            -0.005226             0.005613   \n",
       "complaint_status                           0.000819             0.000532   \n",
       "feedback                                  -0.024809            -0.003325   \n",
       "churn_risk_score                           0.035230             0.019390   \n",
       "age_category                               0.002660            -0.001717   \n",
       "how_much_spent                            -0.008675            -0.016031   \n",
       "pays_or_not                               -0.007266             0.001441   \n",
       "Joining_Day                                0.003142             0.002571   \n",
       "Joining_Month                             -0.000033             0.004664   \n",
       "Joining_Year                               0.003160            -0.004717   \n",
       "days_since_joined                         -0.003066             0.002832   \n",
       "need_offers                               -0.864428             0.004357   \n",
       "complaint_experience                      -0.008006             0.000543   \n",
       "rating                                     0.048227             0.023825   \n",
       "satsifaction                               0.054620             0.024105   \n",
       "\n",
       "                              internet_option  days_since_last_login  \\\n",
       "age                                  0.011150              -0.003970   \n",
       "gender                              -0.004068              -0.007683   \n",
       "security_no                         -0.000551              -0.007759   \n",
       "region_category                      0.008442              -0.000141   \n",
       "membership_category                  0.004903              -0.000631   \n",
       "joined_through_referral             -0.002973              -0.009124   \n",
       "referral_id                          0.001992               0.013616   \n",
       "preferred_offer_types                0.001595               0.003372   \n",
       "medium_of_operation                 -0.007638               0.003089   \n",
       "internet_option                      1.000000              -0.004221   \n",
       "days_since_last_login               -0.004221               1.000000   \n",
       "avg_time_spent                      -0.002078              -0.002369   \n",
       "avg_transaction_value               -0.005848               0.003934   \n",
       "avg_frequency_login_days            -0.000735               0.000019   \n",
       "points_in_wallet                     0.004034               0.008603   \n",
       "used_special_discount               -0.001021              -0.001641   \n",
       "offer_application_preference         0.005341              -0.001697   \n",
       "past_complaint                      -0.000529              -0.004185   \n",
       "complaint_status                    -0.009356               0.001515   \n",
       "feedback                             0.000402               0.008226   \n",
       "churn_risk_score                    -0.001623              -0.007888   \n",
       "age_category                         0.005226              -0.003119   \n",
       "how_much_spent                       0.000296               0.002438   \n",
       "pays_or_not                          0.003656               0.005879   \n",
       "Joining_Day                          0.004639               0.003810   \n",
       "Joining_Month                        0.004680              -0.002046   \n",
       "Joining_Year                        -0.006716               0.000226   \n",
       "days_since_joined                    0.004656               0.000345   \n",
       "need_offers                         -0.005593              -0.007052   \n",
       "complaint_experience                -0.006590              -0.013380   \n",
       "rating                               0.002197              -0.004454   \n",
       "satsifaction                         0.002463              -0.008612   \n",
       "\n",
       "                              avg_time_spent  avg_transaction_value  \\\n",
       "age                                 0.001531              -0.000473   \n",
       "gender                             -0.009560               0.003694   \n",
       "security_no                        -0.000638               0.007594   \n",
       "region_category                    -0.000069               0.006857   \n",
       "membership_category                 0.005885               0.094190   \n",
       "joined_through_referral             0.086901              -0.024487   \n",
       "referral_id                        -0.083460               0.026413   \n",
       "preferred_offer_types              -0.006104              -0.022914   \n",
       "medium_of_operation                -0.103395              -0.011733   \n",
       "internet_option                    -0.002078              -0.005848   \n",
       "days_since_last_login              -0.002369               0.003934   \n",
       "avg_time_spent                      1.000000               0.020888   \n",
       "avg_transaction_value               0.020888               1.000000   \n",
       "avg_frequency_login_days            0.002194              -0.124471   \n",
       "points_in_wallet                   -0.000618               0.083729   \n",
       "used_special_discount               0.072625               0.006703   \n",
       "offer_application_preference        0.071776               0.023522   \n",
       "past_complaint                      0.001408              -0.003486   \n",
       "complaint_status                    0.002407              -0.002408   \n",
       "feedback                            0.013992               0.210152   \n",
       "churn_risk_score                   -0.024554              -0.357921   \n",
       "age_category                       -0.001724              -0.010646   \n",
       "how_much_spent                      0.013772               0.184643   \n",
       "pays_or_not                         0.006150               0.102966   \n",
       "Joining_Day                        -0.010078               0.005514   \n",
       "Joining_Month                       0.009686              -0.000783   \n",
       "Joining_Year                        0.002223              -0.000702   \n",
       "days_since_joined                  -0.005030               0.000775   \n",
       "need_offers                         0.000977               0.036970   \n",
       "complaint_experience               -0.005923              -0.003307   \n",
       "rating                             -0.031969              -0.429033   \n",
       "satsifaction                       -0.035721              -0.472208   \n",
       "\n",
       "                              avg_frequency_login_days  points_in_wallet  \\\n",
       "age                                          -0.002274          0.000196   \n",
       "gender                                       -0.002303         -0.009352   \n",
       "security_no                                   0.000583         -0.002864   \n",
       "region_category                              -0.010964         -0.002207   \n",
       "membership_category                          -0.050524          0.162879   \n",
       "joined_through_referral                       0.010532         -0.003748   \n",
       "referral_id                                  -0.012119          0.007041   \n",
       "preferred_offer_types                         0.008180         -0.006693   \n",
       "medium_of_operation                           0.013525          0.001372   \n",
       "internet_option                              -0.000735          0.004034   \n",
       "days_since_last_login                         0.000019          0.008603   \n",
       "avg_time_spent                                0.002194         -0.000618   \n",
       "avg_transaction_value                        -0.124471          0.083729   \n",
       "avg_frequency_login_days                      1.000000         -0.041190   \n",
       "points_in_wallet                             -0.041190          1.000000   \n",
       "used_special_discount                        -0.001807          0.004942   \n",
       "offer_application_preference                 -0.007632          0.003944   \n",
       "past_complaint                                0.005891         -0.004501   \n",
       "complaint_status                              0.011892         -0.005084   \n",
       "feedback                                     -0.109574          0.082928   \n",
       "churn_risk_score                              0.192702         -0.305696   \n",
       "age_category                                 -0.006353         -0.003423   \n",
       "how_much_spent                               -0.103469          0.230114   \n",
       "pays_or_not                                  -0.052951          0.167762   \n",
       "Joining_Day                                   0.011586          0.001472   \n",
       "Joining_Month                                -0.002714         -0.002752   \n",
       "Joining_Year                                 -0.003987          0.002848   \n",
       "days_since_joined                             0.004348         -0.001822   \n",
       "need_offers                                  -0.019358          0.011933   \n",
       "complaint_experience                          0.008564         -0.007199   \n",
       "rating                                        0.230564         -0.153783   \n",
       "satsifaction                                  0.251600         -0.171359   \n",
       "\n",
       "                              used_special_discount  \\\n",
       "age                                       -0.005375   \n",
       "gender                                    -0.000728   \n",
       "security_no                               -0.002057   \n",
       "region_category                            0.007276   \n",
       "membership_category                        0.007350   \n",
       "joined_through_referral                    0.010533   \n",
       "referral_id                               -0.019275   \n",
       "preferred_offer_types                      0.000966   \n",
       "medium_of_operation                       -0.025906   \n",
       "internet_option                           -0.001021   \n",
       "days_since_last_login                     -0.001641   \n",
       "avg_time_spent                             0.072625   \n",
       "avg_transaction_value                      0.006703   \n",
       "avg_frequency_login_days                  -0.001807   \n",
       "points_in_wallet                           0.004942   \n",
       "used_special_discount                      1.000000   \n",
       "offer_application_preference              -0.814132   \n",
       "past_complaint                             0.007421   \n",
       "complaint_status                           0.000893   \n",
       "feedback                                   0.006138   \n",
       "churn_risk_score                          -0.011062   \n",
       "age_category                               0.003988   \n",
       "how_much_spent                             0.008266   \n",
       "pays_or_not                                0.007478   \n",
       "Joining_Day                                0.002851   \n",
       "Joining_Month                              0.000910   \n",
       "Joining_Year                               0.000157   \n",
       "days_since_joined                         -0.000530   \n",
       "need_offers                               -0.002737   \n",
       "complaint_experience                       0.010460   \n",
       "rating                                    -0.008896   \n",
       "satsifaction                              -0.009440   \n",
       "\n",
       "                              offer_application_preference  past_complaint  \\\n",
       "age                                               0.003090        0.001663   \n",
       "gender                                            0.000333       -0.008200   \n",
       "security_no                                      -0.000891       -0.008269   \n",
       "region_category                                  -0.006629       -0.006742   \n",
       "membership_category                               0.004544       -0.010205   \n",
       "joined_through_referral                           0.020307        0.004429   \n",
       "referral_id                                      -0.007522       -0.005562   \n",
       "preferred_offer_types                             0.001051       -0.005226   \n",
       "medium_of_operation                              -0.026717        0.005613   \n",
       "internet_option                                   0.005341       -0.000529   \n",
       "days_since_last_login                            -0.001697       -0.004185   \n",
       "avg_time_spent                                    0.071776        0.001408   \n",
       "avg_transaction_value                             0.023522       -0.003486   \n",
       "avg_frequency_login_days                         -0.007632        0.005891   \n",
       "points_in_wallet                                  0.003944       -0.004501   \n",
       "used_special_discount                            -0.814132        0.007421   \n",
       "offer_application_preference                      1.000000       -0.007223   \n",
       "past_complaint                                   -0.007223        1.000000   \n",
       "complaint_status                                  0.001459        0.517335   \n",
       "feedback                                          0.015585       -0.006910   \n",
       "churn_risk_score                                 -0.034686        0.011807   \n",
       "age_category                                      0.000547       -0.006866   \n",
       "how_much_spent                                    0.015615       -0.003431   \n",
       "pays_or_not                                       0.008069       -0.003869   \n",
       "Joining_Day                                      -0.002625        0.001941   \n",
       "Joining_Month                                     0.001426       -0.001896   \n",
       "Joining_Year                                     -0.001677       -0.000779   \n",
       "days_since_joined                                 0.001183        0.001305   \n",
       "need_offers                                       0.001551        0.006097   \n",
       "complaint_experience                             -0.013984        0.578408   \n",
       "rating                                           -0.046215        0.013768   \n",
       "satsifaction                                     -0.049683        0.014095   \n",
       "\n",
       "                              complaint_status  feedback  churn_risk_score  \\\n",
       "age                                   0.003429 -0.007230          0.002314   \n",
       "gender                                0.000301 -0.001589         -0.003606   \n",
       "security_no                           0.000468  0.011521          0.005470   \n",
       "region_category                      -0.004091  0.008708         -0.013696   \n",
       "membership_category                  -0.007075  0.086677         -0.433369   \n",
       "joined_through_referral              -0.001468 -0.026270          0.039968   \n",
       "referral_id                          -0.002504  0.022681         -0.035122   \n",
       "preferred_offer_types                 0.000819 -0.024809          0.035230   \n",
       "medium_of_operation                   0.000532 -0.003325          0.019390   \n",
       "internet_option                      -0.009356  0.000402         -0.001623   \n",
       "days_since_last_login                 0.001515  0.008226         -0.007888   \n",
       "avg_time_spent                        0.002407  0.013992         -0.024554   \n",
       "avg_transaction_value                -0.002408  0.210152         -0.357921   \n",
       "avg_frequency_login_days              0.011892 -0.109574          0.192702   \n",
       "points_in_wallet                     -0.005084  0.082928         -0.305696   \n",
       "used_special_discount                 0.000893  0.006138         -0.011062   \n",
       "offer_application_preference          0.001459  0.015585         -0.034686   \n",
       "past_complaint                        0.517335 -0.006910          0.011807   \n",
       "complaint_status                      1.000000 -0.005301          0.003834   \n",
       "feedback                             -0.005301  1.000000         -0.329962   \n",
       "churn_risk_score                      0.003834 -0.329962          1.000000   \n",
       "age_category                          0.003719 -0.003660         -0.001693   \n",
       "how_much_spent                        0.002058  0.171355         -0.660093   \n",
       "pays_or_not                          -0.001928  0.095032         -0.450994   \n",
       "Joining_Day                           0.006587 -0.004145          0.007836   \n",
       "Joining_Month                         0.002989  0.003882          0.008430   \n",
       "Joining_Year                          0.000783  0.006303          0.006975   \n",
       "days_since_joined                    -0.001910 -0.007094         -0.009568   \n",
       "need_offers                           0.004029  0.038194         -0.059325   \n",
       "complaint_experience                  0.186441  0.002783          0.001632   \n",
       "rating                                0.008773 -0.196260          0.675415   \n",
       "satsifaction                          0.007776 -0.440546          0.739671   \n",
       "\n",
       "                              age_category  how_much_spent  pays_or_not  \\\n",
       "age                              -0.075498       -0.004206     0.000323   \n",
       "gender                           -0.002584        0.004745     0.005231   \n",
       "security_no                       0.007192       -0.005842    -0.000614   \n",
       "region_category                   0.000673        0.006539     0.001751   \n",
       "membership_category               0.003712        0.084282     0.071533   \n",
       "joined_through_referral          -0.007141       -0.024106    -0.016053   \n",
       "referral_id                       0.008996        0.020159     0.018523   \n",
       "preferred_offer_types             0.002660       -0.008675    -0.007266   \n",
       "medium_of_operation              -0.001717       -0.016031     0.001441   \n",
       "internet_option                   0.005226        0.000296     0.003656   \n",
       "days_since_last_login            -0.003119        0.002438     0.005879   \n",
       "avg_time_spent                   -0.001724        0.013772     0.006150   \n",
       "avg_transaction_value            -0.010646        0.184643     0.102966   \n",
       "avg_frequency_login_days         -0.006353       -0.103469    -0.052951   \n",
       "points_in_wallet                 -0.003423        0.230114     0.167762   \n",
       "used_special_discount             0.003988        0.008266     0.007478   \n",
       "offer_application_preference      0.000547        0.015615     0.008069   \n",
       "past_complaint                   -0.006866       -0.003431    -0.003869   \n",
       "complaint_status                  0.003719        0.002058    -0.001928   \n",
       "feedback                         -0.003660        0.171355     0.095032   \n",
       "churn_risk_score                 -0.001693       -0.660093    -0.450994   \n",
       "age_category                      1.000000        0.011871     0.018199   \n",
       "how_much_spent                    0.011871        1.000000     0.437254   \n",
       "pays_or_not                       0.018199        0.437254     1.000000   \n",
       "Joining_Day                      -0.004541       -0.006228     0.001078   \n",
       "Joining_Month                    -0.002308       -0.006669    -0.005595   \n",
       "Joining_Year                      0.003549       -0.008579    -0.011664   \n",
       "days_since_joined                -0.002453        0.010456     0.012798   \n",
       "need_offers                      -0.002314        0.020639     0.013198   \n",
       "complaint_experience             -0.005427        0.004276    -0.000652   \n",
       "rating                            0.000136       -0.346644    -0.195180   \n",
       "satsifaction                      0.002991       -0.380095    -0.215267   \n",
       "\n",
       "                              Joining_Day  Joining_Month  Joining_Year  \\\n",
       "age                              0.000375       0.004494     -0.012752   \n",
       "gender                          -0.000755      -0.001965      0.003218   \n",
       "security_no                      0.002269       0.002460      0.002454   \n",
       "region_category                  0.006657      -0.001247      0.000112   \n",
       "membership_category             -0.003731      -0.011489      0.001521   \n",
       "joined_through_referral         -0.002972       0.004142     -0.002608   \n",
       "referral_id                      0.000880      -0.005347      0.001416   \n",
       "preferred_offer_types            0.003142      -0.000033      0.003160   \n",
       "medium_of_operation              0.002571       0.004664     -0.004717   \n",
       "internet_option                  0.004639       0.004680     -0.006716   \n",
       "days_since_last_login            0.003810      -0.002046      0.000226   \n",
       "avg_time_spent                  -0.010078       0.009686      0.002223   \n",
       "avg_transaction_value            0.005514      -0.000783     -0.000702   \n",
       "avg_frequency_login_days         0.011586      -0.002714     -0.003987   \n",
       "points_in_wallet                 0.001472      -0.002752      0.002848   \n",
       "used_special_discount            0.002851       0.000910      0.000157   \n",
       "offer_application_preference    -0.002625       0.001426     -0.001677   \n",
       "past_complaint                   0.001941      -0.001896     -0.000779   \n",
       "complaint_status                 0.006587       0.002989      0.000783   \n",
       "feedback                        -0.004145       0.003882      0.006303   \n",
       "churn_risk_score                 0.007836       0.008430      0.006975   \n",
       "age_category                    -0.004541      -0.002308      0.003549   \n",
       "how_much_spent                  -0.006228      -0.006669     -0.008579   \n",
       "pays_or_not                      0.001078      -0.005595     -0.011664   \n",
       "Joining_Day                      1.000000       0.004728     -0.000172   \n",
       "Joining_Month                    0.004728       1.000000      0.003609   \n",
       "Joining_Year                    -0.000172       0.003609      1.000000   \n",
       "days_since_joined               -0.029018      -0.333982     -0.943372   \n",
       "need_offers                     -0.003157       0.000793     -0.001452   \n",
       "complaint_experience            -0.002186      -0.002691      0.000657   \n",
       "rating                           0.002423       0.000528      0.005514   \n",
       "satsifaction                    -0.000236       0.002339      0.002167   \n",
       "\n",
       "                              days_since_joined  need_offers  \\\n",
       "age                                    0.010499     0.007598   \n",
       "gender                                -0.002356     0.003291   \n",
       "security_no                           -0.003191    -0.005909   \n",
       "region_category                        0.000096     0.005693   \n",
       "membership_category                    0.002462     0.023604   \n",
       "joined_through_referral                0.001161    -0.002439   \n",
       "referral_id                            0.000425     0.006331   \n",
       "preferred_offer_types                 -0.003066    -0.864428   \n",
       "medium_of_operation                    0.002832     0.004357   \n",
       "internet_option                        0.004656    -0.005593   \n",
       "days_since_last_login                  0.000345    -0.007052   \n",
       "avg_time_spent                        -0.005030     0.000977   \n",
       "avg_transaction_value                  0.000775     0.036970   \n",
       "avg_frequency_login_days               0.004348    -0.019358   \n",
       "points_in_wallet                      -0.001822     0.011933   \n",
       "used_special_discount                 -0.000530    -0.002737   \n",
       "offer_application_preference           0.001183     0.001551   \n",
       "past_complaint                         0.001305     0.006097   \n",
       "complaint_status                      -0.001910     0.004029   \n",
       "feedback                              -0.007094     0.038194   \n",
       "churn_risk_score                      -0.009568    -0.059325   \n",
       "age_category                          -0.002453    -0.002314   \n",
       "how_much_spent                         0.010456     0.020639   \n",
       "pays_or_not                            0.012798     0.013198   \n",
       "Joining_Day                           -0.029018    -0.003157   \n",
       "Joining_Month                         -0.333982     0.000793   \n",
       "Joining_Year                          -0.943372    -0.001452   \n",
       "days_since_joined                      1.000000     0.001209   \n",
       "need_offers                            0.001209     1.000000   \n",
       "complaint_experience                   0.000321     0.005817   \n",
       "rating                                -0.005430    -0.074424   \n",
       "satsifaction                          -0.002807    -0.084188   \n",
       "\n",
       "                              complaint_experience    rating  satsifaction  \n",
       "age                                      -0.003561  0.003519      0.002556  \n",
       "gender                                   -0.008224 -0.000412     -0.000790  \n",
       "security_no                              -0.008970  0.001816     -0.003837  \n",
       "region_category                          -0.001121 -0.019288     -0.021267  \n",
       "membership_category                      -0.007137 -0.171867     -0.189109  \n",
       "joined_through_referral                   0.005423  0.045836      0.049493  \n",
       "referral_id                              -0.006683 -0.038657     -0.043079  \n",
       "preferred_offer_types                    -0.008006  0.048227      0.054620  \n",
       "medium_of_operation                       0.000543  0.023825      0.024105  \n",
       "internet_option                          -0.006590  0.002197      0.002463  \n",
       "days_since_last_login                    -0.013380 -0.004454     -0.008612  \n",
       "avg_time_spent                           -0.005923 -0.031969     -0.035721  \n",
       "avg_transaction_value                    -0.003307 -0.429033     -0.472208  \n",
       "avg_frequency_login_days                  0.008564  0.230564      0.251600  \n",
       "points_in_wallet                         -0.007199 -0.153783     -0.171359  \n",
       "used_special_discount                     0.010460 -0.008896     -0.009440  \n",
       "offer_application_preference             -0.013984 -0.046215     -0.049683  \n",
       "past_complaint                            0.578408  0.013768      0.014095  \n",
       "complaint_status                          0.186441  0.008773      0.007776  \n",
       "feedback                                  0.002783 -0.196260     -0.440546  \n",
       "churn_risk_score                          0.001632  0.675415      0.739671  \n",
       "age_category                             -0.005427  0.000136      0.002991  \n",
       "how_much_spent                            0.004276 -0.346644     -0.380095  \n",
       "pays_or_not                              -0.000652 -0.195180     -0.215267  \n",
       "Joining_Day                              -0.002186  0.002423     -0.000236  \n",
       "Joining_Month                            -0.002691  0.000528      0.002339  \n",
       "Joining_Year                              0.000657  0.005514      0.002167  \n",
       "days_since_joined                         0.000321 -0.005430     -0.002807  \n",
       "need_offers                               0.005817 -0.074424     -0.084188  \n",
       "complaint_experience                      1.000000  0.004381      0.003048  \n",
       "rating                                    0.004381  1.000000      0.913586  \n",
       "satsifaction                              0.003048  0.913586      1.000000  "
      ]
     },
     "execution_count": 89,
     "metadata": {},
     "output_type": "execute_result"
    }
   ],
   "source": [
    "train.corr()"
   ]
  },
  {
   "cell_type": "code",
   "execution_count": 90,
   "metadata": {},
   "outputs": [],
   "source": [
    "train_target = train['churn_risk_score']\n",
    "train_data = train.loc[:, train.columns != 'churn_risk_score']\n",
    "test_orig = test"
   ]
  },
  {
   "cell_type": "code",
   "execution_count": 91,
   "metadata": {},
   "outputs": [],
   "source": [
    "train.to_csv('train_clean.csv')\n",
    "test.to_csv('test_clean.csv')"
   ]
  },
  {
   "cell_type": "markdown",
   "metadata": {},
   "source": [
    "# Models :\n",
    "\n",
    "Training this dataset on 5 XGBoost models, each models has different features. I've used Recursive Feature Elimination (RFE) from Scikit-Learn library for feature selection. The code for RFE Feature selection is given in other notebook named 'Feature_Selection.ipynb'."
   ]
  },
  {
   "cell_type": "markdown",
   "metadata": {},
   "source": [
    "# Model 0"
   ]
  },
  {
   "cell_type": "code",
   "execution_count": 92,
   "metadata": {},
   "outputs": [],
   "source": [
    "train_y = train['churn_risk_score']\n",
    "train_x = train[['age', 'gender', 'region_category', 'membership_category', 'joined_through_referral','preferred_offer_types', 'medium_of_operation', 'internet_option','days_since_last_login', 'avg_time_spent', 'avg_transaction_value','avg_frequency_login_days', 'points_in_wallet', 'used_special_discount','offer_application_preference', 'past_complaint', 'complaint_status','feedback', 'age_category', 'how_much_spent', 'pays_or_not','Joining_Day', 'Joining_Month', 'Joining_Year', 'days_since_joined', 'need_offers', 'complaint_experience', 'satsifaction']]\n",
    "test = test[['age', 'gender', 'region_category', 'membership_category', 'joined_through_referral','preferred_offer_types', 'medium_of_operation', 'internet_option','days_since_last_login', 'avg_time_spent', 'avg_transaction_value','avg_frequency_login_days', 'points_in_wallet', 'used_special_discount','offer_application_preference', 'past_complaint', 'complaint_status','feedback', 'age_category', 'how_much_spent', 'pays_or_not','Joining_Day', 'Joining_Month', 'Joining_Year', 'days_since_joined', 'need_offers', 'complaint_experience', 'satsifaction']]"
   ]
  },
  {
   "cell_type": "code",
   "execution_count": 93,
   "metadata": {},
   "outputs": [
    {
     "data": {
      "text/plain": [
       "((36992, 28), (19919, 28))"
      ]
     },
     "execution_count": 93,
     "metadata": {},
     "output_type": "execute_result"
    }
   ],
   "source": [
    "train_x.shape, test.shape"
   ]
  },
  {
   "cell_type": "code",
   "execution_count": 94,
   "metadata": {},
   "outputs": [],
   "source": [
    "from sklearn.model_selection import train_test_split\n",
    "\n",
    "X_train, X_val, y_train, y_val = train_test_split(train_x, train_y, test_size=.10, random_state = 89)"
   ]
  },
  {
   "cell_type": "code",
   "execution_count": 95,
   "metadata": {},
   "outputs": [],
   "source": [
    "import xgboost as xgb\n",
    "\n",
    "model = xgb.XGBClassifier(n_estimators = 113, learning_rate = 0.1, n_jobs = -1)"
   ]
  },
  {
   "cell_type": "code",
   "execution_count": 96,
   "metadata": {
    "scrolled": false
   },
   "outputs": [
    {
     "name": "stderr",
     "output_type": "stream",
     "text": [
      "C:\\Users\\Adarsh\\miniconda3\\lib\\site-packages\\xgboost\\sklearn.py:892: UserWarning: The use of label encoder in XGBClassifier is deprecated and will be removed in a future release. To remove this warning, do the following: 1) Pass option use_label_encoder=False when constructing XGBClassifier object; and 2) Encode your labels (y) as integers starting with 0, i.e. 0, 1, 2, ..., [num_class - 1].\n",
      "  warnings.warn(label_encoder_deprecation_msg, UserWarning)\n"
     ]
    },
    {
     "name": "stdout",
     "output_type": "stream",
     "text": [
      "[19:21:32] WARNING: C:/Users/Administrator/workspace/xgboost-win64_release_1.3.0/src/learner.cc:1061: Starting in XGBoost 1.3.0, the default evaluation metric used with the objective 'multi:softprob' was changed from 'merror' to 'mlogloss'. Explicitly set eval_metric if you'd like to restore the old behavior.\n"
     ]
    },
    {
     "data": {
      "text/plain": [
       "XGBClassifier(base_score=0.5, booster='gbtree', colsample_bylevel=1,\n",
       "              colsample_bynode=1, colsample_bytree=1, gamma=0, gpu_id=-1,\n",
       "              importance_type='gain', interaction_constraints='',\n",
       "              learning_rate=0.1, max_delta_step=0, max_depth=6,\n",
       "              min_child_weight=1, missing=nan, monotone_constraints='()',\n",
       "              n_estimators=113, n_jobs=-1, num_parallel_tree=1,\n",
       "              objective='multi:softprob', random_state=0, reg_alpha=0,\n",
       "              reg_lambda=1, scale_pos_weight=None, subsample=1,\n",
       "              tree_method='exact', validate_parameters=1, verbosity=None)"
      ]
     },
     "execution_count": 96,
     "metadata": {},
     "output_type": "execute_result"
    }
   ],
   "source": [
    "model.fit(X_train, y_train)"
   ]
  },
  {
   "cell_type": "code",
   "execution_count": 97,
   "metadata": {},
   "outputs": [
    {
     "data": {
      "text/plain": [
       "0.7637837837837838"
      ]
     },
     "execution_count": 97,
     "metadata": {},
     "output_type": "execute_result"
    }
   ],
   "source": [
    "model.score(X_val, y_val)"
   ]
  },
  {
   "cell_type": "code",
   "execution_count": 98,
   "metadata": {
    "scrolled": true
   },
   "outputs": [],
   "source": [
    "pred = model.predict(test)"
   ]
  },
  {
   "cell_type": "code",
   "execution_count": 99,
   "metadata": {},
   "outputs": [],
   "source": [
    "submission = pd.DataFrame({'customer_id': test.index, 'churn_risk_score': pred})\n",
    "submission.to_csv('Result0.csv', index=False)"
   ]
  },
  {
   "cell_type": "markdown",
   "metadata": {},
   "source": [
    "# Model 1"
   ]
  },
  {
   "cell_type": "code",
   "execution_count": 100,
   "metadata": {},
   "outputs": [],
   "source": [
    "train_x = train_data[['age', 'membership_category', 'avg_time_spent', 'avg_transaction_value', 'points_in_wallet', 'past_complaint', 'how_much_spent', 'pays_or_not', 'days_since_joined', 'rating']]\n",
    "test = test_orig[['age', 'membership_category', 'avg_time_spent', 'avg_transaction_value', 'points_in_wallet', 'past_complaint', 'how_much_spent', 'pays_or_not', 'days_since_joined', 'rating']]"
   ]
  },
  {
   "cell_type": "code",
   "execution_count": 101,
   "metadata": {},
   "outputs": [],
   "source": [
    "from sklearn.model_selection import train_test_split\n",
    "\n",
    "X_train, X_val, y_train, y_val = train_test_split(train_x, train_y, test_size=.10, random_state = 89)"
   ]
  },
  {
   "cell_type": "code",
   "execution_count": 102,
   "metadata": {},
   "outputs": [],
   "source": [
    "import xgboost as xgb\n",
    "\n",
    "model = xgb.XGBClassifier(max_depth = 5, learning_rate = 0.15, n_jobs = -1)"
   ]
  },
  {
   "cell_type": "code",
   "execution_count": 103,
   "metadata": {},
   "outputs": [
    {
     "name": "stderr",
     "output_type": "stream",
     "text": [
      "C:\\Users\\Adarsh\\miniconda3\\lib\\site-packages\\xgboost\\sklearn.py:892: UserWarning: The use of label encoder in XGBClassifier is deprecated and will be removed in a future release. To remove this warning, do the following: 1) Pass option use_label_encoder=False when constructing XGBClassifier object; and 2) Encode your labels (y) as integers starting with 0, i.e. 0, 1, 2, ..., [num_class - 1].\n",
      "  warnings.warn(label_encoder_deprecation_msg, UserWarning)\n"
     ]
    },
    {
     "name": "stdout",
     "output_type": "stream",
     "text": [
      "[19:21:42] WARNING: C:/Users/Administrator/workspace/xgboost-win64_release_1.3.0/src/learner.cc:1061: Starting in XGBoost 1.3.0, the default evaluation metric used with the objective 'multi:softprob' was changed from 'merror' to 'mlogloss'. Explicitly set eval_metric if you'd like to restore the old behavior.\n"
     ]
    },
    {
     "data": {
      "text/plain": [
       "XGBClassifier(base_score=0.5, booster='gbtree', colsample_bylevel=1,\n",
       "              colsample_bynode=1, colsample_bytree=1, gamma=0, gpu_id=-1,\n",
       "              importance_type='gain', interaction_constraints='',\n",
       "              learning_rate=0.15, max_delta_step=0, max_depth=5,\n",
       "              min_child_weight=1, missing=nan, monotone_constraints='()',\n",
       "              n_estimators=100, n_jobs=-1, num_parallel_tree=1,\n",
       "              objective='multi:softprob', random_state=0, reg_alpha=0,\n",
       "              reg_lambda=1, scale_pos_weight=None, subsample=1,\n",
       "              tree_method='exact', validate_parameters=1, verbosity=None)"
      ]
     },
     "execution_count": 103,
     "metadata": {},
     "output_type": "execute_result"
    }
   ],
   "source": [
    "model.fit(train_x, train_y)"
   ]
  },
  {
   "cell_type": "code",
   "execution_count": 104,
   "metadata": {},
   "outputs": [
    {
     "data": {
      "text/plain": [
       "0.8224324324324325"
      ]
     },
     "execution_count": 104,
     "metadata": {},
     "output_type": "execute_result"
    }
   ],
   "source": [
    "model.score(X_val, y_val)"
   ]
  },
  {
   "cell_type": "code",
   "execution_count": 105,
   "metadata": {},
   "outputs": [],
   "source": [
    "pred = model.predict(test)"
   ]
  },
  {
   "cell_type": "code",
   "execution_count": 106,
   "metadata": {},
   "outputs": [],
   "source": [
    "submission = pd.DataFrame({'customer_id': test.index, 'churn_risk_score': pred})\n",
    "submission.to_csv('Result1.csv', index=False)"
   ]
  },
  {
   "cell_type": "markdown",
   "metadata": {},
   "source": [
    "# Model 2"
   ]
  },
  {
   "cell_type": "code",
   "execution_count": 107,
   "metadata": {},
   "outputs": [],
   "source": [
    "train_x = train_data[['security_no', 'membership_category', 'referral_id', 'avg_time_spent', 'avg_transaction_value', 'points_in_wallet', 'how_much_spent', 'pays_or_not', 'days_since_joined', 'satsifaction']]\n",
    "test = test_orig[['security_no', 'membership_category', 'referral_id', 'avg_time_spent', 'avg_transaction_value', 'points_in_wallet', 'how_much_spent', 'pays_or_not', 'days_since_joined', 'satsifaction']]"
   ]
  },
  {
   "cell_type": "code",
   "execution_count": 108,
   "metadata": {},
   "outputs": [],
   "source": [
    "from sklearn.model_selection import train_test_split\n",
    "\n",
    "X_train, X_val, y_train, y_val = train_test_split(train_x, train_y, test_size=.10, random_state = 89)"
   ]
  },
  {
   "cell_type": "code",
   "execution_count": 109,
   "metadata": {},
   "outputs": [],
   "source": [
    "import xgboost as xgb\n",
    "\n",
    "model = xgb.XGBClassifier(n_estimators = 113, learning_rate = 0.15)"
   ]
  },
  {
   "cell_type": "code",
   "execution_count": 110,
   "metadata": {},
   "outputs": [
    {
     "name": "stderr",
     "output_type": "stream",
     "text": [
      "C:\\Users\\Adarsh\\miniconda3\\lib\\site-packages\\xgboost\\sklearn.py:892: UserWarning: The use of label encoder in XGBClassifier is deprecated and will be removed in a future release. To remove this warning, do the following: 1) Pass option use_label_encoder=False when constructing XGBClassifier object; and 2) Encode your labels (y) as integers starting with 0, i.e. 0, 1, 2, ..., [num_class - 1].\n",
      "  warnings.warn(label_encoder_deprecation_msg, UserWarning)\n"
     ]
    },
    {
     "name": "stdout",
     "output_type": "stream",
     "text": [
      "[19:21:49] WARNING: C:/Users/Administrator/workspace/xgboost-win64_release_1.3.0/src/learner.cc:1061: Starting in XGBoost 1.3.0, the default evaluation metric used with the objective 'multi:softprob' was changed from 'merror' to 'mlogloss'. Explicitly set eval_metric if you'd like to restore the old behavior.\n"
     ]
    },
    {
     "data": {
      "text/plain": [
       "XGBClassifier(base_score=0.5, booster='gbtree', colsample_bylevel=1,\n",
       "              colsample_bynode=1, colsample_bytree=1, gamma=0, gpu_id=-1,\n",
       "              importance_type='gain', interaction_constraints='',\n",
       "              learning_rate=0.15, max_delta_step=0, max_depth=6,\n",
       "              min_child_weight=1, missing=nan, monotone_constraints='()',\n",
       "              n_estimators=113, n_jobs=8, num_parallel_tree=1,\n",
       "              objective='multi:softprob', random_state=0, reg_alpha=0,\n",
       "              reg_lambda=1, scale_pos_weight=None, subsample=1,\n",
       "              tree_method='exact', validate_parameters=1, verbosity=None)"
      ]
     },
     "execution_count": 110,
     "metadata": {},
     "output_type": "execute_result"
    }
   ],
   "source": [
    "model.fit(X_train, y_train)"
   ]
  },
  {
   "cell_type": "code",
   "execution_count": 111,
   "metadata": {},
   "outputs": [
    {
     "data": {
      "text/plain": [
       "0.7645945945945946"
      ]
     },
     "execution_count": 111,
     "metadata": {},
     "output_type": "execute_result"
    }
   ],
   "source": [
    "model.score(X_val, y_val)"
   ]
  },
  {
   "cell_type": "code",
   "execution_count": 112,
   "metadata": {},
   "outputs": [],
   "source": [
    "pred = model.predict(test)"
   ]
  },
  {
   "cell_type": "code",
   "execution_count": 113,
   "metadata": {},
   "outputs": [],
   "source": [
    "submission = pd.DataFrame({'customer_id': test.index, 'churn_risk_score': pred})\n",
    "submission.to_csv('Result2.csv', index=False)"
   ]
  },
  {
   "cell_type": "markdown",
   "metadata": {},
   "source": [
    "# Model 3"
   ]
  },
  {
   "cell_type": "code",
   "execution_count": 114,
   "metadata": {},
   "outputs": [],
   "source": [
    "train_x = train_data[['age', 'gender', 'region_category', 'membership_category', 'preferred_offer_types', 'medium_of_operation', 'days_since_last_login', 'avg_time_spent', 'avg_transaction_value', 'points_in_wallet', 'used_special_discount', 'past_complaint', 'complaint_status', 'feedback', 'how_much_spent', 'pays_or_not', 'Joining_Month', 'days_since_joined', 'satsifaction']]\n",
    "test = test_orig[['age', 'gender', 'region_category', 'membership_category', 'preferred_offer_types', 'medium_of_operation', 'days_since_last_login', 'avg_time_spent', 'avg_transaction_value', 'points_in_wallet', 'used_special_discount', 'past_complaint', 'complaint_status', 'feedback', 'how_much_spent', 'pays_or_not', 'Joining_Month', 'days_since_joined', 'satsifaction']]"
   ]
  },
  {
   "cell_type": "code",
   "execution_count": 115,
   "metadata": {},
   "outputs": [],
   "source": [
    "from sklearn.model_selection import train_test_split\n",
    "\n",
    "X_train, X_val, y_train, y_val = train_test_split(train_x, train_y, test_size=.10, random_state = 89)"
   ]
  },
  {
   "cell_type": "code",
   "execution_count": 116,
   "metadata": {},
   "outputs": [],
   "source": [
    "import xgboost as xgb\n",
    "\n",
    "model = xgb.XGBClassifier(n_estimators = 112, max_depth = 5, learning_rate = 0.13)"
   ]
  },
  {
   "cell_type": "code",
   "execution_count": 117,
   "metadata": {},
   "outputs": [
    {
     "name": "stderr",
     "output_type": "stream",
     "text": [
      "C:\\Users\\Adarsh\\miniconda3\\lib\\site-packages\\xgboost\\sklearn.py:892: UserWarning: The use of label encoder in XGBClassifier is deprecated and will be removed in a future release. To remove this warning, do the following: 1) Pass option use_label_encoder=False when constructing XGBClassifier object; and 2) Encode your labels (y) as integers starting with 0, i.e. 0, 1, 2, ..., [num_class - 1].\n",
      "  warnings.warn(label_encoder_deprecation_msg, UserWarning)\n"
     ]
    },
    {
     "name": "stdout",
     "output_type": "stream",
     "text": [
      "[19:21:57] WARNING: C:/Users/Administrator/workspace/xgboost-win64_release_1.3.0/src/learner.cc:1061: Starting in XGBoost 1.3.0, the default evaluation metric used with the objective 'multi:softprob' was changed from 'merror' to 'mlogloss'. Explicitly set eval_metric if you'd like to restore the old behavior.\n"
     ]
    },
    {
     "data": {
      "text/plain": [
       "XGBClassifier(base_score=0.5, booster='gbtree', colsample_bylevel=1,\n",
       "              colsample_bynode=1, colsample_bytree=1, gamma=0, gpu_id=-1,\n",
       "              importance_type='gain', interaction_constraints='',\n",
       "              learning_rate=0.13, max_delta_step=0, max_depth=5,\n",
       "              min_child_weight=1, missing=nan, monotone_constraints='()',\n",
       "              n_estimators=112, n_jobs=8, num_parallel_tree=1,\n",
       "              objective='multi:softprob', random_state=0, reg_alpha=0,\n",
       "              reg_lambda=1, scale_pos_weight=None, subsample=1,\n",
       "              tree_method='exact', validate_parameters=1, verbosity=None)"
      ]
     },
     "execution_count": 117,
     "metadata": {},
     "output_type": "execute_result"
    }
   ],
   "source": [
    "model.fit(X_train, y_train)"
   ]
  },
  {
   "cell_type": "code",
   "execution_count": 118,
   "metadata": {},
   "outputs": [
    {
     "data": {
      "text/plain": [
       "0.7651351351351351"
      ]
     },
     "execution_count": 118,
     "metadata": {},
     "output_type": "execute_result"
    }
   ],
   "source": [
    "model.score(X_val, y_val)"
   ]
  },
  {
   "cell_type": "code",
   "execution_count": 119,
   "metadata": {},
   "outputs": [],
   "source": [
    "pred = model.predict(test)"
   ]
  },
  {
   "cell_type": "code",
   "execution_count": 120,
   "metadata": {},
   "outputs": [],
   "source": [
    "submission = pd.DataFrame({'customer_id': test.index, 'churn_risk_score': pred})\n",
    "submission.to_csv('Result3.csv', index=False)"
   ]
  },
  {
   "cell_type": "markdown",
   "metadata": {},
   "source": [
    "# Model 4"
   ]
  },
  {
   "cell_type": "code",
   "execution_count": 121,
   "metadata": {},
   "outputs": [],
   "source": [
    "train_x = train_data[['age', 'gender', 'security_no', 'membership_category', 'referral_id', 'avg_time_spent', 'avg_transaction_value', 'points_in_wallet', 'used_special_discount', 'past_complaint', 'how_much_spent', 'pays_or_not', 'Joining_Day', 'Joining_Month', 'days_since_joined', 'rating']]\n",
    "test = test_orig[['age', 'gender', 'security_no', 'membership_category', 'referral_id','avg_time_spent', 'avg_transaction_value', 'points_in_wallet', 'used_special_discount', 'past_complaint', 'how_much_spent', 'pays_or_not', 'Joining_Day', 'Joining_Month', 'days_since_joined', 'rating']]"
   ]
  },
  {
   "cell_type": "code",
   "execution_count": 122,
   "metadata": {},
   "outputs": [],
   "source": [
    "from sklearn.model_selection import train_test_split\n",
    "\n",
    "X_train, X_val, y_train, y_val = train_test_split(train_x, train_y, test_size=.10, random_state = 89)"
   ]
  },
  {
   "cell_type": "code",
   "execution_count": 123,
   "metadata": {},
   "outputs": [],
   "source": [
    "import xgboost as xgb\n",
    "\n",
    "model = xgb.XGBClassifier(n_estimator = 113, max_depth = 5, learning_rate = 0.15)"
   ]
  },
  {
   "cell_type": "code",
   "execution_count": 124,
   "metadata": {},
   "outputs": [
    {
     "name": "stderr",
     "output_type": "stream",
     "text": [
      "C:\\Users\\Adarsh\\miniconda3\\lib\\site-packages\\xgboost\\sklearn.py:892: UserWarning: The use of label encoder in XGBClassifier is deprecated and will be removed in a future release. To remove this warning, do the following: 1) Pass option use_label_encoder=False when constructing XGBClassifier object; and 2) Encode your labels (y) as integers starting with 0, i.e. 0, 1, 2, ..., [num_class - 1].\n",
      "  warnings.warn(label_encoder_deprecation_msg, UserWarning)\n"
     ]
    },
    {
     "name": "stdout",
     "output_type": "stream",
     "text": [
      "[19:22:03] WARNING: C:/Users/Administrator/workspace/xgboost-win64_release_1.3.0/src/learner.cc:541: \n",
      "Parameters: { n_estimator } might not be used.\n",
      "\n",
      "  This may not be accurate due to some parameters are only used in language bindings but\n",
      "  passed down to XGBoost core.  Or some parameters are not used but slip through this\n",
      "  verification. Please open an issue if you find above cases.\n",
      "\n",
      "\n",
      "[19:22:03] WARNING: C:/Users/Administrator/workspace/xgboost-win64_release_1.3.0/src/learner.cc:1061: Starting in XGBoost 1.3.0, the default evaluation metric used with the objective 'multi:softprob' was changed from 'merror' to 'mlogloss'. Explicitly set eval_metric if you'd like to restore the old behavior.\n"
     ]
    },
    {
     "data": {
      "text/plain": [
       "XGBClassifier(base_score=0.5, booster='gbtree', colsample_bylevel=1,\n",
       "              colsample_bynode=1, colsample_bytree=1, gamma=0, gpu_id=-1,\n",
       "              importance_type='gain', interaction_constraints='',\n",
       "              learning_rate=0.15, max_delta_step=0, max_depth=5,\n",
       "              min_child_weight=1, missing=nan, monotone_constraints='()',\n",
       "              n_estimator=113, n_estimators=100, n_jobs=8, num_parallel_tree=1,\n",
       "              objective='multi:softprob', random_state=0, reg_alpha=0,\n",
       "              reg_lambda=1, scale_pos_weight=None, subsample=1,\n",
       "              tree_method='exact', validate_parameters=1, verbosity=None)"
      ]
     },
     "execution_count": 124,
     "metadata": {},
     "output_type": "execute_result"
    }
   ],
   "source": [
    "model.fit(X_train, y_train)"
   ]
  },
  {
   "cell_type": "code",
   "execution_count": 125,
   "metadata": {},
   "outputs": [
    {
     "data": {
      "text/plain": [
       "0.7613513513513513"
      ]
     },
     "execution_count": 125,
     "metadata": {},
     "output_type": "execute_result"
    }
   ],
   "source": [
    "model.score(X_val, y_val)"
   ]
  },
  {
   "cell_type": "code",
   "execution_count": 126,
   "metadata": {},
   "outputs": [],
   "source": [
    "pred = model.predict(test)"
   ]
  },
  {
   "cell_type": "code",
   "execution_count": 127,
   "metadata": {},
   "outputs": [],
   "source": [
    "submission = pd.DataFrame({'customer_id': test.index, 'churn_risk_score1': pred})\n",
    "submission.to_csv('Result4.csv', index=False)"
   ]
  },
  {
   "cell_type": "markdown",
   "metadata": {},
   "source": [
    "# Voting"
   ]
  },
  {
   "cell_type": "code",
   "execution_count": 128,
   "metadata": {},
   "outputs": [],
   "source": [
    "a = pd.read_csv('Result0.csv', index_col = ['customer_id'])\n",
    "b = pd.read_csv('Result1.csv', index_col = ['customer_id'])\n",
    "c = pd.read_csv('Result2.csv', index_col = ['customer_id'])\n",
    "d = pd.read_csv('Result3.csv', index_col = ['customer_id'])\n",
    "e = pd.read_csv('Result4.csv', index_col = ['customer_id'])"
   ]
  },
  {
   "cell_type": "code",
   "execution_count": 129,
   "metadata": {},
   "outputs": [],
   "source": [
    "df1 = pd.merge(a, b, on = 'customer_id')\n",
    "df2 = pd.merge(c, d, on = 'customer_id')\n",
    "df3 = pd.merge(df1, e, on = 'customer_id')\n",
    "df = pd.merge(df2, df3, on = 'customer_id')"
   ]
  },
  {
   "cell_type": "code",
   "execution_count": 130,
   "metadata": {},
   "outputs": [
    {
     "data": {
      "text/html": [
       "<div>\n",
       "<style scoped>\n",
       "    .dataframe tbody tr th:only-of-type {\n",
       "        vertical-align: middle;\n",
       "    }\n",
       "\n",
       "    .dataframe tbody tr th {\n",
       "        vertical-align: top;\n",
       "    }\n",
       "\n",
       "    .dataframe thead th {\n",
       "        text-align: right;\n",
       "    }\n",
       "</style>\n",
       "<table border=\"1\" class=\"dataframe\">\n",
       "  <thead>\n",
       "    <tr style=\"text-align: right;\">\n",
       "      <th></th>\n",
       "      <th>churn_risk_score_x_x</th>\n",
       "      <th>churn_risk_score_y_x</th>\n",
       "      <th>churn_risk_score_x_y</th>\n",
       "      <th>churn_risk_score_y_y</th>\n",
       "      <th>churn_risk_score1</th>\n",
       "    </tr>\n",
       "    <tr>\n",
       "      <th>customer_id</th>\n",
       "      <th></th>\n",
       "      <th></th>\n",
       "      <th></th>\n",
       "      <th></th>\n",
       "      <th></th>\n",
       "    </tr>\n",
       "  </thead>\n",
       "  <tbody>\n",
       "    <tr>\n",
       "      <th>fffe43004900440031003700300030003400</th>\n",
       "      <td>3</td>\n",
       "      <td>3</td>\n",
       "      <td>3</td>\n",
       "      <td>3</td>\n",
       "      <td>3</td>\n",
       "    </tr>\n",
       "    <tr>\n",
       "      <th>fffe43004900440031003900370037003300</th>\n",
       "      <td>3</td>\n",
       "      <td>3</td>\n",
       "      <td>3</td>\n",
       "      <td>3</td>\n",
       "      <td>3</td>\n",
       "    </tr>\n",
       "    <tr>\n",
       "      <th>fffe43004900440034003800360037003000</th>\n",
       "      <td>4</td>\n",
       "      <td>4</td>\n",
       "      <td>3</td>\n",
       "      <td>3</td>\n",
       "      <td>4</td>\n",
       "    </tr>\n",
       "    <tr>\n",
       "      <th>fffe43004900440036003200370033003400</th>\n",
       "      <td>3</td>\n",
       "      <td>3</td>\n",
       "      <td>3</td>\n",
       "      <td>3</td>\n",
       "      <td>3</td>\n",
       "    </tr>\n",
       "    <tr>\n",
       "      <th>fffe43004900440035003000370031003900</th>\n",
       "      <td>5</td>\n",
       "      <td>5</td>\n",
       "      <td>5</td>\n",
       "      <td>5</td>\n",
       "      <td>5</td>\n",
       "    </tr>\n",
       "  </tbody>\n",
       "</table>\n",
       "</div>"
      ],
      "text/plain": [
       "                                      churn_risk_score_x_x  \\\n",
       "customer_id                                                  \n",
       "fffe43004900440031003700300030003400                     3   \n",
       "fffe43004900440031003900370037003300                     3   \n",
       "fffe43004900440034003800360037003000                     4   \n",
       "fffe43004900440036003200370033003400                     3   \n",
       "fffe43004900440035003000370031003900                     5   \n",
       "\n",
       "                                      churn_risk_score_y_x  \\\n",
       "customer_id                                                  \n",
       "fffe43004900440031003700300030003400                     3   \n",
       "fffe43004900440031003900370037003300                     3   \n",
       "fffe43004900440034003800360037003000                     4   \n",
       "fffe43004900440036003200370033003400                     3   \n",
       "fffe43004900440035003000370031003900                     5   \n",
       "\n",
       "                                      churn_risk_score_x_y  \\\n",
       "customer_id                                                  \n",
       "fffe43004900440031003700300030003400                     3   \n",
       "fffe43004900440031003900370037003300                     3   \n",
       "fffe43004900440034003800360037003000                     3   \n",
       "fffe43004900440036003200370033003400                     3   \n",
       "fffe43004900440035003000370031003900                     5   \n",
       "\n",
       "                                      churn_risk_score_y_y  churn_risk_score1  \n",
       "customer_id                                                                    \n",
       "fffe43004900440031003700300030003400                     3                  3  \n",
       "fffe43004900440031003900370037003300                     3                  3  \n",
       "fffe43004900440034003800360037003000                     3                  4  \n",
       "fffe43004900440036003200370033003400                     3                  3  \n",
       "fffe43004900440035003000370031003900                     5                  5  "
      ]
     },
     "execution_count": 130,
     "metadata": {},
     "output_type": "execute_result"
    }
   ],
   "source": [
    "df.head()"
   ]
  },
  {
   "cell_type": "code",
   "execution_count": 131,
   "metadata": {},
   "outputs": [],
   "source": [
    "df['churn_risk_score'] = df.mode(axis=1)[0]"
   ]
  },
  {
   "cell_type": "code",
   "execution_count": 132,
   "metadata": {},
   "outputs": [],
   "source": [
    "del df['churn_risk_score_x_x']\n",
    "del df['churn_risk_score_y_x']\n",
    "del df['churn_risk_score_x_y']\n",
    "del df['churn_risk_score_y_y']\n",
    "del df['churn_risk_score1']"
   ]
  },
  {
   "cell_type": "code",
   "execution_count": 133,
   "metadata": {},
   "outputs": [
    {
     "data": {
      "text/html": [
       "<div>\n",
       "<style scoped>\n",
       "    .dataframe tbody tr th:only-of-type {\n",
       "        vertical-align: middle;\n",
       "    }\n",
       "\n",
       "    .dataframe tbody tr th {\n",
       "        vertical-align: top;\n",
       "    }\n",
       "\n",
       "    .dataframe thead th {\n",
       "        text-align: right;\n",
       "    }\n",
       "</style>\n",
       "<table border=\"1\" class=\"dataframe\">\n",
       "  <thead>\n",
       "    <tr style=\"text-align: right;\">\n",
       "      <th></th>\n",
       "      <th>churn_risk_score</th>\n",
       "    </tr>\n",
       "    <tr>\n",
       "      <th>customer_id</th>\n",
       "      <th></th>\n",
       "    </tr>\n",
       "  </thead>\n",
       "  <tbody>\n",
       "    <tr>\n",
       "      <th>fffe43004900440031003700300030003400</th>\n",
       "      <td>3</td>\n",
       "    </tr>\n",
       "    <tr>\n",
       "      <th>fffe43004900440031003900370037003300</th>\n",
       "      <td>3</td>\n",
       "    </tr>\n",
       "    <tr>\n",
       "      <th>fffe43004900440034003800360037003000</th>\n",
       "      <td>4</td>\n",
       "    </tr>\n",
       "    <tr>\n",
       "      <th>fffe43004900440036003200370033003400</th>\n",
       "      <td>3</td>\n",
       "    </tr>\n",
       "    <tr>\n",
       "      <th>fffe43004900440035003000370031003900</th>\n",
       "      <td>5</td>\n",
       "    </tr>\n",
       "  </tbody>\n",
       "</table>\n",
       "</div>"
      ],
      "text/plain": [
       "                                      churn_risk_score\n",
       "customer_id                                           \n",
       "fffe43004900440031003700300030003400                 3\n",
       "fffe43004900440031003900370037003300                 3\n",
       "fffe43004900440034003800360037003000                 4\n",
       "fffe43004900440036003200370033003400                 3\n",
       "fffe43004900440035003000370031003900                 5"
      ]
     },
     "execution_count": 133,
     "metadata": {},
     "output_type": "execute_result"
    }
   ],
   "source": [
    "df['churn_risk_score'] = df['churn_risk_score'].astype('int8')\n",
    "df.head()"
   ]
  },
  {
   "cell_type": "code",
   "execution_count": 134,
   "metadata": {},
   "outputs": [],
   "source": [
    "df.to_csv('Submission.csv')\n",
    "a = pd.read_csv('Submission.csv', index_col = None)\n",
    "a.to_csv('Submission.csv', index=False)"
   ]
  }
 ],
 "metadata": {
  "kernelspec": {
   "display_name": "Python 3",
   "language": "python",
   "name": "python3"
  },
  "language_info": {
   "codemirror_mode": {
    "name": "ipython",
    "version": 3
   },
   "file_extension": ".py",
   "mimetype": "text/x-python",
   "name": "python",
   "nbconvert_exporter": "python",
   "pygments_lexer": "ipython3",
   "version": "3.8.3"
  }
 },
 "nbformat": 4,
 "nbformat_minor": 4
}
